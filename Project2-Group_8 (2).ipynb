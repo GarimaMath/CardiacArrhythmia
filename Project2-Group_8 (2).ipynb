{
 "cells": [
  {
   "cell_type": "markdown",
   "metadata": {},
   "source": [
    "### Cardiac Arrhythmia Multi-Class Classification \n",
    "\n",
    "Analyzed data and addressed missing data\n",
    "\n",
    "Evaluation strategy{ The evaluation strategy used is Recall_weighted.Addressing the false negatives in this classification is paramount; an incorrect prediction can adversely impact the course of treatment for a patient particularly when the algorithm fails to detect a medical condition when it is present.\n",
    "\n",
    "Determined the best parameters for the following classification models: \n",
    "- KNN classifcation \n",
    "- Logistic Regression\n",
    "- Linear Supprt Vector Machine\n",
    "- Kerenilzed Support Vector Machine\n",
    "- Decision Tree\n",
    "- Random Forest \n",
    "\n",
    "Used different bagging and boosting methods to boost the results.\n",
    "\n",
    "Next, used data reduction method to reduce the size of data, and reran above models. "
   ]
  },
  {
   "cell_type": "markdown",
   "metadata": {},
   "source": [
    "This analysis is conducted on the cardiac arrhythmia dataset with 452 samples classified into 16 different class codes.There are a total of 279 variables, therefore we will apply feature selection to select the most revelant features.The exploratory analysis of the data is as follows:\n"
   ]
  },
  {
   "cell_type": "code",
   "execution_count": 1,
   "metadata": {
    "collapsed": true
   },
   "outputs": [],
   "source": [
    "import pandas as pd\n",
    "import numpy as np\n",
    "import seaborn as sea\n",
    "\n",
    "data = pd.read_csv('cardiac_arrhythmia.csv')"
   ]
  },
  {
   "cell_type": "code",
   "execution_count": 2,
   "metadata": {},
   "outputs": [
    {
     "data": {
      "text/html": [
       "<div>\n",
       "<style>\n",
       "    .dataframe thead tr:only-child th {\n",
       "        text-align: right;\n",
       "    }\n",
       "\n",
       "    .dataframe thead th {\n",
       "        text-align: left;\n",
       "    }\n",
       "\n",
       "    .dataframe tbody tr th {\n",
       "        vertical-align: top;\n",
       "    }\n",
       "</style>\n",
       "<table border=\"1\" class=\"dataframe\">\n",
       "  <thead>\n",
       "    <tr style=\"text-align: right;\">\n",
       "      <th></th>\n",
       "      <th>Age</th>\n",
       "      <th>Sex</th>\n",
       "      <th>Height</th>\n",
       "      <th>Weight</th>\n",
       "      <th>QRS_duration</th>\n",
       "      <th>P-R_interval</th>\n",
       "      <th>Q-T_interval</th>\n",
       "      <th>T_interval</th>\n",
       "      <th>P_interval</th>\n",
       "      <th>QRS</th>\n",
       "      <th>...</th>\n",
       "      <th>V6-Amp-Q_wave</th>\n",
       "      <th>V6-Amp-R_wave</th>\n",
       "      <th>V6-Amp-S_wave</th>\n",
       "      <th>V6-Amp-R'_wave</th>\n",
       "      <th>V6-Amp-S'_wave</th>\n",
       "      <th>V6-Amp-P_wave</th>\n",
       "      <th>V6-Amp-T_wave</th>\n",
       "      <th>V6-Amp-QRSA</th>\n",
       "      <th>V6-Amp-QRSTA</th>\n",
       "      <th>Class_Code</th>\n",
       "    </tr>\n",
       "  </thead>\n",
       "  <tbody>\n",
       "    <tr>\n",
       "      <th>0</th>\n",
       "      <td>75</td>\n",
       "      <td>0</td>\n",
       "      <td>190</td>\n",
       "      <td>80</td>\n",
       "      <td>91</td>\n",
       "      <td>193</td>\n",
       "      <td>371</td>\n",
       "      <td>174</td>\n",
       "      <td>121</td>\n",
       "      <td>-16</td>\n",
       "      <td>...</td>\n",
       "      <td>0.0</td>\n",
       "      <td>9.0</td>\n",
       "      <td>-0.9</td>\n",
       "      <td>0.0</td>\n",
       "      <td>0</td>\n",
       "      <td>0.9</td>\n",
       "      <td>2.9</td>\n",
       "      <td>23.3</td>\n",
       "      <td>49.4</td>\n",
       "      <td>8</td>\n",
       "    </tr>\n",
       "    <tr>\n",
       "      <th>1</th>\n",
       "      <td>56</td>\n",
       "      <td>1</td>\n",
       "      <td>165</td>\n",
       "      <td>64</td>\n",
       "      <td>81</td>\n",
       "      <td>174</td>\n",
       "      <td>401</td>\n",
       "      <td>149</td>\n",
       "      <td>39</td>\n",
       "      <td>25</td>\n",
       "      <td>...</td>\n",
       "      <td>0.0</td>\n",
       "      <td>8.5</td>\n",
       "      <td>0.0</td>\n",
       "      <td>0.0</td>\n",
       "      <td>0</td>\n",
       "      <td>0.2</td>\n",
       "      <td>2.1</td>\n",
       "      <td>20.4</td>\n",
       "      <td>38.8</td>\n",
       "      <td>6</td>\n",
       "    </tr>\n",
       "    <tr>\n",
       "      <th>2</th>\n",
       "      <td>54</td>\n",
       "      <td>0</td>\n",
       "      <td>172</td>\n",
       "      <td>95</td>\n",
       "      <td>138</td>\n",
       "      <td>163</td>\n",
       "      <td>386</td>\n",
       "      <td>185</td>\n",
       "      <td>102</td>\n",
       "      <td>96</td>\n",
       "      <td>...</td>\n",
       "      <td>0.0</td>\n",
       "      <td>9.5</td>\n",
       "      <td>-2.4</td>\n",
       "      <td>0.0</td>\n",
       "      <td>0</td>\n",
       "      <td>0.3</td>\n",
       "      <td>3.4</td>\n",
       "      <td>12.3</td>\n",
       "      <td>49.0</td>\n",
       "      <td>10</td>\n",
       "    </tr>\n",
       "    <tr>\n",
       "      <th>3</th>\n",
       "      <td>55</td>\n",
       "      <td>0</td>\n",
       "      <td>175</td>\n",
       "      <td>94</td>\n",
       "      <td>100</td>\n",
       "      <td>202</td>\n",
       "      <td>380</td>\n",
       "      <td>179</td>\n",
       "      <td>143</td>\n",
       "      <td>28</td>\n",
       "      <td>...</td>\n",
       "      <td>0.0</td>\n",
       "      <td>12.2</td>\n",
       "      <td>-2.2</td>\n",
       "      <td>0.0</td>\n",
       "      <td>0</td>\n",
       "      <td>0.4</td>\n",
       "      <td>2.6</td>\n",
       "      <td>34.6</td>\n",
       "      <td>61.6</td>\n",
       "      <td>1</td>\n",
       "    </tr>\n",
       "    <tr>\n",
       "      <th>4</th>\n",
       "      <td>75</td>\n",
       "      <td>0</td>\n",
       "      <td>190</td>\n",
       "      <td>80</td>\n",
       "      <td>88</td>\n",
       "      <td>181</td>\n",
       "      <td>360</td>\n",
       "      <td>177</td>\n",
       "      <td>103</td>\n",
       "      <td>-16</td>\n",
       "      <td>...</td>\n",
       "      <td>0.0</td>\n",
       "      <td>13.1</td>\n",
       "      <td>-3.6</td>\n",
       "      <td>0.0</td>\n",
       "      <td>0</td>\n",
       "      <td>-0.1</td>\n",
       "      <td>3.9</td>\n",
       "      <td>25.4</td>\n",
       "      <td>62.8</td>\n",
       "      <td>7</td>\n",
       "    </tr>\n",
       "  </tbody>\n",
       "</table>\n",
       "<p>5 rows × 280 columns</p>\n",
       "</div>"
      ],
      "text/plain": [
       "   Age  Sex  Height  Weight  QRS_duration  P-R_interval  Q-T_interval  \\\n",
       "0   75    0     190      80            91           193           371   \n",
       "1   56    1     165      64            81           174           401   \n",
       "2   54    0     172      95           138           163           386   \n",
       "3   55    0     175      94           100           202           380   \n",
       "4   75    0     190      80            88           181           360   \n",
       "\n",
       "   T_interval  P_interval  QRS     ...     V6-Amp-Q_wave V6-Amp-R_wave  \\\n",
       "0         174         121  -16     ...               0.0           9.0   \n",
       "1         149          39   25     ...               0.0           8.5   \n",
       "2         185         102   96     ...               0.0           9.5   \n",
       "3         179         143   28     ...               0.0          12.2   \n",
       "4         177         103  -16     ...               0.0          13.1   \n",
       "\n",
       "  V6-Amp-S_wave V6-Amp-R'_wave V6-Amp-S'_wave  V6-Amp-P_wave  V6-Amp-T_wave  \\\n",
       "0          -0.9            0.0              0            0.9            2.9   \n",
       "1           0.0            0.0              0            0.2            2.1   \n",
       "2          -2.4            0.0              0            0.3            3.4   \n",
       "3          -2.2            0.0              0            0.4            2.6   \n",
       "4          -3.6            0.0              0           -0.1            3.9   \n",
       "\n",
       "   V6-Amp-QRSA  V6-Amp-QRSTA  Class_Code  \n",
       "0         23.3          49.4           8  \n",
       "1         20.4          38.8           6  \n",
       "2         12.3          49.0          10  \n",
       "3         34.6          61.6           1  \n",
       "4         25.4          62.8           7  \n",
       "\n",
       "[5 rows x 280 columns]"
      ]
     },
     "execution_count": 2,
     "metadata": {},
     "output_type": "execute_result"
    }
   ],
   "source": [
    "data.head()"
   ]
  },
  {
   "cell_type": "code",
   "execution_count": 3,
   "metadata": {},
   "outputs": [
    {
     "data": {
      "text/html": [
       "<div>\n",
       "<style>\n",
       "    .dataframe thead tr:only-child th {\n",
       "        text-align: right;\n",
       "    }\n",
       "\n",
       "    .dataframe thead th {\n",
       "        text-align: left;\n",
       "    }\n",
       "\n",
       "    .dataframe tbody tr th {\n",
       "        vertical-align: top;\n",
       "    }\n",
       "</style>\n",
       "<table border=\"1\" class=\"dataframe\">\n",
       "  <thead>\n",
       "    <tr style=\"text-align: right;\">\n",
       "      <th></th>\n",
       "      <th>Age</th>\n",
       "      <th>Sex</th>\n",
       "      <th>Height</th>\n",
       "      <th>Weight</th>\n",
       "      <th>QRS_duration</th>\n",
       "      <th>P-R_interval</th>\n",
       "      <th>Q-T_interval</th>\n",
       "      <th>T_interval</th>\n",
       "      <th>P_interval</th>\n",
       "      <th>QRS</th>\n",
       "      <th>...</th>\n",
       "      <th>V6-Amp-Q_wave</th>\n",
       "      <th>V6-Amp-R_wave</th>\n",
       "      <th>V6-Amp-S_wave</th>\n",
       "      <th>V6-Amp-R'_wave</th>\n",
       "      <th>V6-Amp-S'_wave</th>\n",
       "      <th>V6-Amp-P_wave</th>\n",
       "      <th>V6-Amp-T_wave</th>\n",
       "      <th>V6-Amp-QRSA</th>\n",
       "      <th>V6-Amp-QRSTA</th>\n",
       "      <th>Class_Code</th>\n",
       "    </tr>\n",
       "  </thead>\n",
       "  <tbody>\n",
       "    <tr>\n",
       "      <th>count</th>\n",
       "      <td>452.000000</td>\n",
       "      <td>452.000000</td>\n",
       "      <td>452.000000</td>\n",
       "      <td>452.000000</td>\n",
       "      <td>452.000000</td>\n",
       "      <td>452.000000</td>\n",
       "      <td>452.000000</td>\n",
       "      <td>452.000000</td>\n",
       "      <td>452.000000</td>\n",
       "      <td>452.000000</td>\n",
       "      <td>...</td>\n",
       "      <td>452.000000</td>\n",
       "      <td>452.000000</td>\n",
       "      <td>452.000000</td>\n",
       "      <td>452.000000</td>\n",
       "      <td>452.0</td>\n",
       "      <td>452.000000</td>\n",
       "      <td>452.000000</td>\n",
       "      <td>452.000000</td>\n",
       "      <td>452.000000</td>\n",
       "      <td>452.000000</td>\n",
       "    </tr>\n",
       "    <tr>\n",
       "      <th>mean</th>\n",
       "      <td>46.471239</td>\n",
       "      <td>0.550885</td>\n",
       "      <td>166.188053</td>\n",
       "      <td>68.170354</td>\n",
       "      <td>88.920354</td>\n",
       "      <td>155.152655</td>\n",
       "      <td>367.207965</td>\n",
       "      <td>169.949115</td>\n",
       "      <td>90.004425</td>\n",
       "      <td>33.676991</td>\n",
       "      <td>...</td>\n",
       "      <td>-0.278982</td>\n",
       "      <td>9.048009</td>\n",
       "      <td>-1.457301</td>\n",
       "      <td>0.003982</td>\n",
       "      <td>0.0</td>\n",
       "      <td>0.514823</td>\n",
       "      <td>1.222345</td>\n",
       "      <td>19.326106</td>\n",
       "      <td>29.473230</td>\n",
       "      <td>3.880531</td>\n",
       "    </tr>\n",
       "    <tr>\n",
       "      <th>std</th>\n",
       "      <td>16.466631</td>\n",
       "      <td>0.497955</td>\n",
       "      <td>37.170340</td>\n",
       "      <td>16.590803</td>\n",
       "      <td>15.364394</td>\n",
       "      <td>44.842283</td>\n",
       "      <td>33.385421</td>\n",
       "      <td>35.633072</td>\n",
       "      <td>25.826643</td>\n",
       "      <td>45.431434</td>\n",
       "      <td>...</td>\n",
       "      <td>0.548876</td>\n",
       "      <td>3.472862</td>\n",
       "      <td>2.002430</td>\n",
       "      <td>0.050118</td>\n",
       "      <td>0.0</td>\n",
       "      <td>0.347531</td>\n",
       "      <td>1.426052</td>\n",
       "      <td>13.503922</td>\n",
       "      <td>18.493927</td>\n",
       "      <td>4.407097</td>\n",
       "    </tr>\n",
       "    <tr>\n",
       "      <th>min</th>\n",
       "      <td>0.000000</td>\n",
       "      <td>0.000000</td>\n",
       "      <td>105.000000</td>\n",
       "      <td>6.000000</td>\n",
       "      <td>55.000000</td>\n",
       "      <td>0.000000</td>\n",
       "      <td>232.000000</td>\n",
       "      <td>108.000000</td>\n",
       "      <td>0.000000</td>\n",
       "      <td>-172.000000</td>\n",
       "      <td>...</td>\n",
       "      <td>-4.100000</td>\n",
       "      <td>0.000000</td>\n",
       "      <td>-28.600000</td>\n",
       "      <td>0.000000</td>\n",
       "      <td>0.0</td>\n",
       "      <td>-0.800000</td>\n",
       "      <td>-6.000000</td>\n",
       "      <td>-44.200000</td>\n",
       "      <td>-38.600000</td>\n",
       "      <td>1.000000</td>\n",
       "    </tr>\n",
       "    <tr>\n",
       "      <th>25%</th>\n",
       "      <td>36.000000</td>\n",
       "      <td>0.000000</td>\n",
       "      <td>160.000000</td>\n",
       "      <td>59.000000</td>\n",
       "      <td>80.000000</td>\n",
       "      <td>142.000000</td>\n",
       "      <td>350.000000</td>\n",
       "      <td>148.000000</td>\n",
       "      <td>79.000000</td>\n",
       "      <td>3.750000</td>\n",
       "      <td>...</td>\n",
       "      <td>-0.425000</td>\n",
       "      <td>6.600000</td>\n",
       "      <td>-2.100000</td>\n",
       "      <td>0.000000</td>\n",
       "      <td>0.0</td>\n",
       "      <td>0.400000</td>\n",
       "      <td>0.500000</td>\n",
       "      <td>11.450000</td>\n",
       "      <td>17.550000</td>\n",
       "      <td>1.000000</td>\n",
       "    </tr>\n",
       "    <tr>\n",
       "      <th>50%</th>\n",
       "      <td>47.000000</td>\n",
       "      <td>1.000000</td>\n",
       "      <td>164.000000</td>\n",
       "      <td>68.000000</td>\n",
       "      <td>86.000000</td>\n",
       "      <td>157.000000</td>\n",
       "      <td>367.000000</td>\n",
       "      <td>162.000000</td>\n",
       "      <td>91.000000</td>\n",
       "      <td>40.000000</td>\n",
       "      <td>...</td>\n",
       "      <td>0.000000</td>\n",
       "      <td>8.800000</td>\n",
       "      <td>-1.100000</td>\n",
       "      <td>0.000000</td>\n",
       "      <td>0.0</td>\n",
       "      <td>0.500000</td>\n",
       "      <td>1.350000</td>\n",
       "      <td>18.100000</td>\n",
       "      <td>27.900000</td>\n",
       "      <td>1.000000</td>\n",
       "    </tr>\n",
       "    <tr>\n",
       "      <th>75%</th>\n",
       "      <td>58.000000</td>\n",
       "      <td>1.000000</td>\n",
       "      <td>170.000000</td>\n",
       "      <td>79.000000</td>\n",
       "      <td>94.000000</td>\n",
       "      <td>175.000000</td>\n",
       "      <td>384.000000</td>\n",
       "      <td>179.000000</td>\n",
       "      <td>102.000000</td>\n",
       "      <td>66.000000</td>\n",
       "      <td>...</td>\n",
       "      <td>0.000000</td>\n",
       "      <td>11.200000</td>\n",
       "      <td>0.000000</td>\n",
       "      <td>0.000000</td>\n",
       "      <td>0.0</td>\n",
       "      <td>0.700000</td>\n",
       "      <td>2.100000</td>\n",
       "      <td>25.825000</td>\n",
       "      <td>41.125000</td>\n",
       "      <td>6.000000</td>\n",
       "    </tr>\n",
       "    <tr>\n",
       "      <th>max</th>\n",
       "      <td>83.000000</td>\n",
       "      <td>1.000000</td>\n",
       "      <td>780.000000</td>\n",
       "      <td>176.000000</td>\n",
       "      <td>188.000000</td>\n",
       "      <td>524.000000</td>\n",
       "      <td>509.000000</td>\n",
       "      <td>381.000000</td>\n",
       "      <td>205.000000</td>\n",
       "      <td>169.000000</td>\n",
       "      <td>...</td>\n",
       "      <td>0.000000</td>\n",
       "      <td>23.600000</td>\n",
       "      <td>0.000000</td>\n",
       "      <td>0.800000</td>\n",
       "      <td>0.0</td>\n",
       "      <td>2.400000</td>\n",
       "      <td>6.000000</td>\n",
       "      <td>88.800000</td>\n",
       "      <td>115.900000</td>\n",
       "      <td>16.000000</td>\n",
       "    </tr>\n",
       "  </tbody>\n",
       "</table>\n",
       "<p>8 rows × 275 columns</p>\n",
       "</div>"
      ],
      "text/plain": [
       "              Age         Sex      Height      Weight  QRS_duration  \\\n",
       "count  452.000000  452.000000  452.000000  452.000000    452.000000   \n",
       "mean    46.471239    0.550885  166.188053   68.170354     88.920354   \n",
       "std     16.466631    0.497955   37.170340   16.590803     15.364394   \n",
       "min      0.000000    0.000000  105.000000    6.000000     55.000000   \n",
       "25%     36.000000    0.000000  160.000000   59.000000     80.000000   \n",
       "50%     47.000000    1.000000  164.000000   68.000000     86.000000   \n",
       "75%     58.000000    1.000000  170.000000   79.000000     94.000000   \n",
       "max     83.000000    1.000000  780.000000  176.000000    188.000000   \n",
       "\n",
       "       P-R_interval  Q-T_interval  T_interval  P_interval         QRS  \\\n",
       "count    452.000000    452.000000  452.000000  452.000000  452.000000   \n",
       "mean     155.152655    367.207965  169.949115   90.004425   33.676991   \n",
       "std       44.842283     33.385421   35.633072   25.826643   45.431434   \n",
       "min        0.000000    232.000000  108.000000    0.000000 -172.000000   \n",
       "25%      142.000000    350.000000  148.000000   79.000000    3.750000   \n",
       "50%      157.000000    367.000000  162.000000   91.000000   40.000000   \n",
       "75%      175.000000    384.000000  179.000000  102.000000   66.000000   \n",
       "max      524.000000    509.000000  381.000000  205.000000  169.000000   \n",
       "\n",
       "          ...      V6-Amp-Q_wave  V6-Amp-R_wave  V6-Amp-S_wave  \\\n",
       "count     ...         452.000000     452.000000     452.000000   \n",
       "mean      ...          -0.278982       9.048009      -1.457301   \n",
       "std       ...           0.548876       3.472862       2.002430   \n",
       "min       ...          -4.100000       0.000000     -28.600000   \n",
       "25%       ...          -0.425000       6.600000      -2.100000   \n",
       "50%       ...           0.000000       8.800000      -1.100000   \n",
       "75%       ...           0.000000      11.200000       0.000000   \n",
       "max       ...           0.000000      23.600000       0.000000   \n",
       "\n",
       "       V6-Amp-R'_wave  V6-Amp-S'_wave  V6-Amp-P_wave  V6-Amp-T_wave  \\\n",
       "count      452.000000           452.0     452.000000     452.000000   \n",
       "mean         0.003982             0.0       0.514823       1.222345   \n",
       "std          0.050118             0.0       0.347531       1.426052   \n",
       "min          0.000000             0.0      -0.800000      -6.000000   \n",
       "25%          0.000000             0.0       0.400000       0.500000   \n",
       "50%          0.000000             0.0       0.500000       1.350000   \n",
       "75%          0.000000             0.0       0.700000       2.100000   \n",
       "max          0.800000             0.0       2.400000       6.000000   \n",
       "\n",
       "       V6-Amp-QRSA  V6-Amp-QRSTA  Class_Code  \n",
       "count   452.000000    452.000000  452.000000  \n",
       "mean     19.326106     29.473230    3.880531  \n",
       "std      13.503922     18.493927    4.407097  \n",
       "min     -44.200000    -38.600000    1.000000  \n",
       "25%      11.450000     17.550000    1.000000  \n",
       "50%      18.100000     27.900000    1.000000  \n",
       "75%      25.825000     41.125000    6.000000  \n",
       "max      88.800000    115.900000   16.000000  \n",
       "\n",
       "[8 rows x 275 columns]"
      ]
     },
     "execution_count": 3,
     "metadata": {},
     "output_type": "execute_result"
    }
   ],
   "source": [
    "data.describe()"
   ]
  },
  {
   "cell_type": "code",
   "execution_count": 4,
   "metadata": {},
   "outputs": [
    {
     "data": {
      "text/plain": [
       "(452, 280)"
      ]
     },
     "execution_count": 4,
     "metadata": {},
     "output_type": "execute_result"
    }
   ],
   "source": [
    "data.shape"
   ]
  },
  {
   "cell_type": "code",
   "execution_count": 5,
   "metadata": {},
   "outputs": [
    {
     "data": {
      "text/plain": [
       "Age                                                        int64\n",
       "Sex                                                        int64\n",
       "Height                                                     int64\n",
       "Weight                                                     int64\n",
       "QRS_duration                                               int64\n",
       "P-R_interval                                               int64\n",
       "Q-T_interval                                               int64\n",
       "T_interval                                                 int64\n",
       "P_interval                                                 int64\n",
       "QRS                                                        int64\n",
       "T                                                         object\n",
       "P                                                         object\n",
       "QRST                                                      object\n",
       "J                                                         object\n",
       "Heart_rate                                                object\n",
       "DI-Q_wave                                                  int64\n",
       "DI-R_wave                                                  int64\n",
       "DI-S_wave                                                  int64\n",
       "DI-R'_wave                                                 int64\n",
       "DI-S'_wave                                                 int64\n",
       "DI-Number_of_intrinsic_deflections_linear                  int64\n",
       "DI-Existence_of_ragged_R_wave_nominal                      int64\n",
       "DI-Existence_of_diphasic_derivation_of_R_wave_nominal      int64\n",
       "DI-Existence_of_ragged_P_wave_nominal                      int64\n",
       "DI-Existence_of_diphasic_derivation_of_P_wave_nominal      int64\n",
       "DI-Existence_of_ragged_T_wave_nominal                      int64\n",
       "DI-Existence_of_diphasic_derivation_of_T_wave_nominal      int64\n",
       "DII-Q_wave                                                 int64\n",
       "DII-R_wave                                                 int64\n",
       "DII-S_wave                                                 int64\n",
       "                                                          ...   \n",
       "V4-Amp-Q_wave                                            float64\n",
       "V4-Amp-R_wave                                            float64\n",
       "V4-Amp-S_wave                                            float64\n",
       "V4-Amp-R'_wave                                           float64\n",
       "V4-Amp-S'_wave                                           float64\n",
       "V4-Amp-P_wave                                            float64\n",
       "V4-Amp-T_wave                                            float64\n",
       "V4-Amp-QRSA                                              float64\n",
       "V4-Amp-QRSTA                                             float64\n",
       "V5-Amp-JJ_wave                                           float64\n",
       "V5-Amp-Q_wave                                            float64\n",
       "V5-Amp-R_wave                                            float64\n",
       "V5-Amp-S_wave                                            float64\n",
       "V5-Amp-R'_wave                                           float64\n",
       "V5-Amp-S'_wave                                             int64\n",
       "V5-Amp-P_wave                                            float64\n",
       "V5-Amp-T_wave                                            float64\n",
       "V5-Amp-QRSA                                              float64\n",
       "V5-Amp-QRSTA                                             float64\n",
       "V6-Amp-JJ_wave                                           float64\n",
       "V6-Amp-Q_wave                                            float64\n",
       "V6-Amp-R_wave                                            float64\n",
       "V6-Amp-S_wave                                            float64\n",
       "V6-Amp-R'_wave                                           float64\n",
       "V6-Amp-S'_wave                                             int64\n",
       "V6-Amp-P_wave                                            float64\n",
       "V6-Amp-T_wave                                            float64\n",
       "V6-Amp-QRSA                                              float64\n",
       "V6-Amp-QRSTA                                             float64\n",
       "Class_Code                                                 int64\n",
       "Length: 280, dtype: object"
      ]
     },
     "execution_count": 5,
     "metadata": {},
     "output_type": "execute_result"
    }
   ],
   "source": [
    "data.dtypes"
   ]
  },
  {
   "cell_type": "code",
   "execution_count": 6,
   "metadata": {
    "collapsed": true
   },
   "outputs": [],
   "source": [
    "import numpy as np\n",
    "data = data.replace('?',np.NaN)"
   ]
  },
  {
   "cell_type": "code",
   "execution_count": 7,
   "metadata": {
    "collapsed": true
   },
   "outputs": [],
   "source": [
    "data['T'] = data['T'].astype(str).astype(float)"
   ]
  },
  {
   "cell_type": "code",
   "execution_count": 8,
   "metadata": {
    "collapsed": true
   },
   "outputs": [],
   "source": [
    "data['P'] = data['P'].astype(str).astype(float)"
   ]
  },
  {
   "cell_type": "code",
   "execution_count": 9,
   "metadata": {
    "collapsed": true
   },
   "outputs": [],
   "source": [
    "data['QRST'] = data['QRST'].astype(str).astype(float)\n"
   ]
  },
  {
   "cell_type": "code",
   "execution_count": 10,
   "metadata": {
    "collapsed": true
   },
   "outputs": [],
   "source": [
    "data['J'] = data['J'].astype(str).astype(float)\n"
   ]
  },
  {
   "cell_type": "code",
   "execution_count": 11,
   "metadata": {
    "collapsed": true
   },
   "outputs": [],
   "source": [
    "data['Heart_rate'] = data['Heart_rate'].astype(str).astype(float)"
   ]
  },
  {
   "cell_type": "code",
   "execution_count": 12,
   "metadata": {},
   "outputs": [
    {
     "data": {
      "text/plain": [
       "Age                                                        int64\n",
       "Sex                                                        int64\n",
       "Height                                                     int64\n",
       "Weight                                                     int64\n",
       "QRS_duration                                               int64\n",
       "P-R_interval                                               int64\n",
       "Q-T_interval                                               int64\n",
       "T_interval                                                 int64\n",
       "P_interval                                                 int64\n",
       "QRS                                                        int64\n",
       "T                                                        float64\n",
       "P                                                        float64\n",
       "QRST                                                     float64\n",
       "J                                                        float64\n",
       "Heart_rate                                               float64\n",
       "DI-Q_wave                                                  int64\n",
       "DI-R_wave                                                  int64\n",
       "DI-S_wave                                                  int64\n",
       "DI-R'_wave                                                 int64\n",
       "DI-S'_wave                                                 int64\n",
       "DI-Number_of_intrinsic_deflections_linear                  int64\n",
       "DI-Existence_of_ragged_R_wave_nominal                      int64\n",
       "DI-Existence_of_diphasic_derivation_of_R_wave_nominal      int64\n",
       "DI-Existence_of_ragged_P_wave_nominal                      int64\n",
       "DI-Existence_of_diphasic_derivation_of_P_wave_nominal      int64\n",
       "DI-Existence_of_ragged_T_wave_nominal                      int64\n",
       "DI-Existence_of_diphasic_derivation_of_T_wave_nominal      int64\n",
       "DII-Q_wave                                                 int64\n",
       "DII-R_wave                                                 int64\n",
       "DII-S_wave                                                 int64\n",
       "                                                          ...   \n",
       "V4-Amp-Q_wave                                            float64\n",
       "V4-Amp-R_wave                                            float64\n",
       "V4-Amp-S_wave                                            float64\n",
       "V4-Amp-R'_wave                                           float64\n",
       "V4-Amp-S'_wave                                           float64\n",
       "V4-Amp-P_wave                                            float64\n",
       "V4-Amp-T_wave                                            float64\n",
       "V4-Amp-QRSA                                              float64\n",
       "V4-Amp-QRSTA                                             float64\n",
       "V5-Amp-JJ_wave                                           float64\n",
       "V5-Amp-Q_wave                                            float64\n",
       "V5-Amp-R_wave                                            float64\n",
       "V5-Amp-S_wave                                            float64\n",
       "V5-Amp-R'_wave                                           float64\n",
       "V5-Amp-S'_wave                                             int64\n",
       "V5-Amp-P_wave                                            float64\n",
       "V5-Amp-T_wave                                            float64\n",
       "V5-Amp-QRSA                                              float64\n",
       "V5-Amp-QRSTA                                             float64\n",
       "V6-Amp-JJ_wave                                           float64\n",
       "V6-Amp-Q_wave                                            float64\n",
       "V6-Amp-R_wave                                            float64\n",
       "V6-Amp-S_wave                                            float64\n",
       "V6-Amp-R'_wave                                           float64\n",
       "V6-Amp-S'_wave                                             int64\n",
       "V6-Amp-P_wave                                            float64\n",
       "V6-Amp-T_wave                                            float64\n",
       "V6-Amp-QRSA                                              float64\n",
       "V6-Amp-QRSTA                                             float64\n",
       "Class_Code                                                 int64\n",
       "Length: 280, dtype: object"
      ]
     },
     "execution_count": 12,
     "metadata": {},
     "output_type": "execute_result"
    }
   ],
   "source": [
    "data.dtypes"
   ]
  },
  {
   "cell_type": "code",
   "execution_count": 13,
   "metadata": {},
   "outputs": [
    {
     "data": {
      "text/plain": [
       "Age                                                        0\n",
       "Sex                                                        0\n",
       "Height                                                     0\n",
       "Weight                                                     0\n",
       "QRS_duration                                               0\n",
       "P-R_interval                                               0\n",
       "Q-T_interval                                               0\n",
       "T_interval                                                 0\n",
       "P_interval                                                 0\n",
       "QRS                                                        0\n",
       "T                                                          8\n",
       "P                                                         22\n",
       "QRST                                                       1\n",
       "J                                                        376\n",
       "Heart_rate                                                 1\n",
       "DI-Q_wave                                                  0\n",
       "DI-R_wave                                                  0\n",
       "DI-S_wave                                                  0\n",
       "DI-R'_wave                                                 0\n",
       "DI-S'_wave                                                 0\n",
       "DI-Number_of_intrinsic_deflections_linear                  0\n",
       "DI-Existence_of_ragged_R_wave_nominal                      0\n",
       "DI-Existence_of_diphasic_derivation_of_R_wave_nominal      0\n",
       "DI-Existence_of_ragged_P_wave_nominal                      0\n",
       "DI-Existence_of_diphasic_derivation_of_P_wave_nominal      0\n",
       "DI-Existence_of_ragged_T_wave_nominal                      0\n",
       "DI-Existence_of_diphasic_derivation_of_T_wave_nominal      0\n",
       "DII-Q_wave                                                 0\n",
       "DII-R_wave                                                 0\n",
       "DII-S_wave                                                 0\n",
       "                                                        ... \n",
       "V4-Amp-Q_wave                                              0\n",
       "V4-Amp-R_wave                                              0\n",
       "V4-Amp-S_wave                                              0\n",
       "V4-Amp-R'_wave                                             0\n",
       "V4-Amp-S'_wave                                             0\n",
       "V4-Amp-P_wave                                              0\n",
       "V4-Amp-T_wave                                              0\n",
       "V4-Amp-QRSA                                                0\n",
       "V4-Amp-QRSTA                                               0\n",
       "V5-Amp-JJ_wave                                             0\n",
       "V5-Amp-Q_wave                                              0\n",
       "V5-Amp-R_wave                                              0\n",
       "V5-Amp-S_wave                                              0\n",
       "V5-Amp-R'_wave                                             0\n",
       "V5-Amp-S'_wave                                             0\n",
       "V5-Amp-P_wave                                              0\n",
       "V5-Amp-T_wave                                              0\n",
       "V5-Amp-QRSA                                                0\n",
       "V5-Amp-QRSTA                                               0\n",
       "V6-Amp-JJ_wave                                             0\n",
       "V6-Amp-Q_wave                                              0\n",
       "V6-Amp-R_wave                                              0\n",
       "V6-Amp-S_wave                                              0\n",
       "V6-Amp-R'_wave                                             0\n",
       "V6-Amp-S'_wave                                             0\n",
       "V6-Amp-P_wave                                              0\n",
       "V6-Amp-T_wave                                              0\n",
       "V6-Amp-QRSA                                                0\n",
       "V6-Amp-QRSTA                                               0\n",
       "Class_Code                                                 0\n",
       "Length: 280, dtype: int64"
      ]
     },
     "execution_count": 13,
     "metadata": {},
     "output_type": "execute_result"
    }
   ],
   "source": [
    "data.isnull().sum()"
   ]
  },
  {
   "cell_type": "code",
   "execution_count": 14,
   "metadata": {},
   "outputs": [
    {
     "data": {
      "text/plain": [
       "408"
      ]
     },
     "execution_count": 14,
     "metadata": {},
     "output_type": "execute_result"
    }
   ],
   "source": [
    "data.isnull().values.sum()\n"
   ]
  },
  {
   "cell_type": "code",
   "execution_count": 15,
   "metadata": {},
   "outputs": [
    {
     "data": {
      "text/plain": [
       "(452, 279)"
      ]
     },
     "execution_count": 15,
     "metadata": {},
     "output_type": "execute_result"
    }
   ],
   "source": [
    "#dropping the column because it has 376 missing values\n",
    "#imputing these values will be an error\n",
    "#Also on researching about the topic, found that the J vector angle is not a significant attribute\n",
    "data1 = data.drop(['J'], axis = 1)\n",
    "data1.shape"
   ]
  },
  {
   "cell_type": "code",
   "execution_count": 16,
   "metadata": {},
   "outputs": [
    {
     "data": {
      "text/plain": [
       "Age                                                       0\n",
       "Sex                                                       0\n",
       "Height                                                    0\n",
       "Weight                                                    0\n",
       "QRS_duration                                              0\n",
       "P-R_interval                                              0\n",
       "Q-T_interval                                              0\n",
       "T_interval                                                0\n",
       "P_interval                                                0\n",
       "QRS                                                       0\n",
       "T                                                         8\n",
       "P                                                        22\n",
       "QRST                                                      1\n",
       "Heart_rate                                                1\n",
       "DI-Q_wave                                                 0\n",
       "DI-R_wave                                                 0\n",
       "DI-S_wave                                                 0\n",
       "DI-R'_wave                                                0\n",
       "DI-S'_wave                                                0\n",
       "DI-Number_of_intrinsic_deflections_linear                 0\n",
       "DI-Existence_of_ragged_R_wave_nominal                     0\n",
       "DI-Existence_of_diphasic_derivation_of_R_wave_nominal     0\n",
       "DI-Existence_of_ragged_P_wave_nominal                     0\n",
       "DI-Existence_of_diphasic_derivation_of_P_wave_nominal     0\n",
       "DI-Existence_of_ragged_T_wave_nominal                     0\n",
       "DI-Existence_of_diphasic_derivation_of_T_wave_nominal     0\n",
       "DII-Q_wave                                                0\n",
       "DII-R_wave                                                0\n",
       "DII-S_wave                                                0\n",
       "DII-R'_wave                                               0\n",
       "                                                         ..\n",
       "V4-Amp-Q_wave                                             0\n",
       "V4-Amp-R_wave                                             0\n",
       "V4-Amp-S_wave                                             0\n",
       "V4-Amp-R'_wave                                            0\n",
       "V4-Amp-S'_wave                                            0\n",
       "V4-Amp-P_wave                                             0\n",
       "V4-Amp-T_wave                                             0\n",
       "V4-Amp-QRSA                                               0\n",
       "V4-Amp-QRSTA                                              0\n",
       "V5-Amp-JJ_wave                                            0\n",
       "V5-Amp-Q_wave                                             0\n",
       "V5-Amp-R_wave                                             0\n",
       "V5-Amp-S_wave                                             0\n",
       "V5-Amp-R'_wave                                            0\n",
       "V5-Amp-S'_wave                                            0\n",
       "V5-Amp-P_wave                                             0\n",
       "V5-Amp-T_wave                                             0\n",
       "V5-Amp-QRSA                                               0\n",
       "V5-Amp-QRSTA                                              0\n",
       "V6-Amp-JJ_wave                                            0\n",
       "V6-Amp-Q_wave                                             0\n",
       "V6-Amp-R_wave                                             0\n",
       "V6-Amp-S_wave                                             0\n",
       "V6-Amp-R'_wave                                            0\n",
       "V6-Amp-S'_wave                                            0\n",
       "V6-Amp-P_wave                                             0\n",
       "V6-Amp-T_wave                                             0\n",
       "V6-Amp-QRSA                                               0\n",
       "V6-Amp-QRSTA                                              0\n",
       "Class_Code                                                0\n",
       "Length: 279, dtype: int64"
      ]
     },
     "execution_count": 16,
     "metadata": {},
     "output_type": "execute_result"
    }
   ],
   "source": [
    "data1.isnull().sum()"
   ]
  },
  {
   "cell_type": "code",
   "execution_count": 17,
   "metadata": {},
   "outputs": [
    {
     "data": {
      "text/html": [
       "<div>\n",
       "<style>\n",
       "    .dataframe thead tr:only-child th {\n",
       "        text-align: right;\n",
       "    }\n",
       "\n",
       "    .dataframe thead th {\n",
       "        text-align: left;\n",
       "    }\n",
       "\n",
       "    .dataframe tbody tr th {\n",
       "        vertical-align: top;\n",
       "    }\n",
       "</style>\n",
       "<table border=\"1\" class=\"dataframe\">\n",
       "  <thead>\n",
       "    <tr style=\"text-align: right;\">\n",
       "      <th></th>\n",
       "      <th>P</th>\n",
       "    </tr>\n",
       "    <tr>\n",
       "      <th>Class_Code</th>\n",
       "      <th></th>\n",
       "    </tr>\n",
       "  </thead>\n",
       "  <tbody>\n",
       "    <tr>\n",
       "      <th>1</th>\n",
       "      <td>49.301255</td>\n",
       "    </tr>\n",
       "    <tr>\n",
       "      <th>2</th>\n",
       "      <td>43.731707</td>\n",
       "    </tr>\n",
       "    <tr>\n",
       "      <th>3</th>\n",
       "      <td>47.153846</td>\n",
       "    </tr>\n",
       "    <tr>\n",
       "      <th>4</th>\n",
       "      <td>58.333333</td>\n",
       "    </tr>\n",
       "    <tr>\n",
       "      <th>5</th>\n",
       "      <td>51.461538</td>\n",
       "    </tr>\n",
       "    <tr>\n",
       "      <th>6</th>\n",
       "      <td>45.250000</td>\n",
       "    </tr>\n",
       "    <tr>\n",
       "      <th>7</th>\n",
       "      <td>68.666667</td>\n",
       "    </tr>\n",
       "    <tr>\n",
       "      <th>8</th>\n",
       "      <td>47.500000</td>\n",
       "    </tr>\n",
       "    <tr>\n",
       "      <th>9</th>\n",
       "      <td>34.333333</td>\n",
       "    </tr>\n",
       "    <tr>\n",
       "      <th>10</th>\n",
       "      <td>52.833333</td>\n",
       "    </tr>\n",
       "    <tr>\n",
       "      <th>14</th>\n",
       "      <td>52.000000</td>\n",
       "    </tr>\n",
       "    <tr>\n",
       "      <th>15</th>\n",
       "      <td>NaN</td>\n",
       "    </tr>\n",
       "    <tr>\n",
       "      <th>16</th>\n",
       "      <td>45.263158</td>\n",
       "    </tr>\n",
       "  </tbody>\n",
       "</table>\n",
       "</div>"
      ],
      "text/plain": [
       "                    P\n",
       "Class_Code           \n",
       "1           49.301255\n",
       "2           43.731707\n",
       "3           47.153846\n",
       "4           58.333333\n",
       "5           51.461538\n",
       "6           45.250000\n",
       "7           68.666667\n",
       "8           47.500000\n",
       "9           34.333333\n",
       "10          52.833333\n",
       "14          52.000000\n",
       "15                NaN\n",
       "16          45.263158"
      ]
     },
     "execution_count": 17,
     "metadata": {},
     "output_type": "execute_result"
    }
   ],
   "source": [
    "data1.groupby(['Class_Code'])[[\"P\"]].mean()"
   ]
  },
  {
   "cell_type": "markdown",
   "metadata": {},
   "source": [
    "To address missing values we have used fancy impute with MICE since medical data is sensitive to any random imputations. Hence we have used the above mentioned method because it considers all the attributes and runs a regression to impute the missing values, therefore reducing the randomness in the imputed values."
   ]
  },
  {
   "cell_type": "code",
   "execution_count": 18,
   "metadata": {},
   "outputs": [
    {
     "name": "stderr",
     "output_type": "stream",
     "text": [
      "C:\\Users\\garim\\Anaconda3\\lib\\site-packages\\h5py\\__init__.py:34: FutureWarning: Conversion of the second argument of issubdtype from `float` to `np.floating` is deprecated. In future, it will be treated as `np.float64 == np.dtype(float).type`.\n",
      "  from ._conv import register_converters as _register_converters\n",
      "Using TensorFlow backend.\n"
     ]
    },
    {
     "name": "stdout",
     "output_type": "stream",
     "text": [
      "[MICE] Completing matrix with shape (452, 279)\n",
      "[MICE] Starting imputation round 1/110, elapsed time 0.000\n",
      "[MICE] Starting imputation round 2/110, elapsed time 0.031\n",
      "[MICE] Starting imputation round 3/110, elapsed time 0.047\n",
      "[MICE] Starting imputation round 4/110, elapsed time 0.078\n",
      "[MICE] Starting imputation round 5/110, elapsed time 0.094\n",
      "[MICE] Starting imputation round 6/110, elapsed time 0.125\n",
      "[MICE] Starting imputation round 7/110, elapsed time 0.141\n",
      "[MICE] Starting imputation round 8/110, elapsed time 0.172\n",
      "[MICE] Starting imputation round 9/110, elapsed time 0.188\n",
      "[MICE] Starting imputation round 10/110, elapsed time 0.261\n",
      "[MICE] Starting imputation round 11/110, elapsed time 0.293\n",
      "[MICE] Starting imputation round 12/110, elapsed time 0.321\n",
      "[MICE] Starting imputation round 13/110, elapsed time 0.328\n",
      "[MICE] Starting imputation round 14/110, elapsed time 0.359\n",
      "[MICE] Starting imputation round 15/110, elapsed time 0.398\n",
      "[MICE] Starting imputation round 16/110, elapsed time 0.418\n",
      "[MICE] Starting imputation round 17/110, elapsed time 0.434\n",
      "[MICE] Starting imputation round 18/110, elapsed time 0.516\n",
      "[MICE] Starting imputation round 19/110, elapsed time 0.540\n",
      "[MICE] Starting imputation round 20/110, elapsed time 0.560\n",
      "[MICE] Starting imputation round 21/110, elapsed time 0.587\n",
      "[MICE] Starting imputation round 22/110, elapsed time 0.610\n",
      "[MICE] Starting imputation round 23/110, elapsed time 0.633\n",
      "[MICE] Starting imputation round 24/110, elapsed time 0.655\n",
      "[MICE] Starting imputation round 25/110, elapsed time 0.680\n",
      "[MICE] Starting imputation round 26/110, elapsed time 0.716\n",
      "[MICE] Starting imputation round 27/110, elapsed time 0.776\n",
      "[MICE] Starting imputation round 28/110, elapsed time 0.787\n",
      "[MICE] Starting imputation round 29/110, elapsed time 0.818\n",
      "[MICE] Starting imputation round 30/110, elapsed time 0.849\n",
      "[MICE] Starting imputation round 31/110, elapsed time 0.865\n",
      "[MICE] Starting imputation round 32/110, elapsed time 0.896\n",
      "[MICE] Starting imputation round 33/110, elapsed time 0.957\n",
      "[MICE] Starting imputation round 34/110, elapsed time 0.986\n",
      "[MICE] Starting imputation round 35/110, elapsed time 1.009\n",
      "[MICE] Starting imputation round 36/110, elapsed time 1.025\n",
      "[MICE] Starting imputation round 37/110, elapsed time 1.056\n",
      "[MICE] Starting imputation round 38/110, elapsed time 1.072\n",
      "[MICE] Starting imputation round 39/110, elapsed time 1.103\n",
      "[MICE] Starting imputation round 40/110, elapsed time 1.255\n",
      "[MICE] Starting imputation round 41/110, elapsed time 1.601\n",
      "[MICE] Starting imputation round 42/110, elapsed time 1.830\n",
      "[MICE] Starting imputation round 43/110, elapsed time 2.090\n",
      "[MICE] Starting imputation round 44/110, elapsed time 2.335\n",
      "[MICE] Starting imputation round 45/110, elapsed time 2.575\n",
      "[MICE] Starting imputation round 46/110, elapsed time 2.669\n",
      "[MICE] Starting imputation round 47/110, elapsed time 2.698\n",
      "[MICE] Starting imputation round 48/110, elapsed time 2.721\n",
      "[MICE] Starting imputation round 49/110, elapsed time 2.739\n",
      "[MICE] Starting imputation round 50/110, elapsed time 2.763\n",
      "[MICE] Starting imputation round 51/110, elapsed time 2.828\n",
      "[MICE] Starting imputation round 52/110, elapsed time 2.840\n",
      "[MICE] Starting imputation round 53/110, elapsed time 2.871\n",
      "[MICE] Starting imputation round 54/110, elapsed time 2.903\n",
      "[MICE] Starting imputation round 55/110, elapsed time 2.918\n",
      "[MICE] Starting imputation round 56/110, elapsed time 2.949\n",
      "[MICE] Starting imputation round 57/110, elapsed time 2.967\n",
      "[MICE] Starting imputation round 58/110, elapsed time 2.983\n",
      "[MICE] Starting imputation round 59/110, elapsed time 3.014\n",
      "[MICE] Starting imputation round 60/110, elapsed time 3.078\n",
      "[MICE] Starting imputation round 61/110, elapsed time 3.090\n",
      "[MICE] Starting imputation round 62/110, elapsed time 3.119\n",
      "[MICE] Starting imputation round 63/110, elapsed time 3.150\n",
      "[MICE] Starting imputation round 64/110, elapsed time 3.166\n",
      "[MICE] Starting imputation round 65/110, elapsed time 3.197\n",
      "[MICE] Starting imputation round 66/110, elapsed time 3.228\n",
      "[MICE] Starting imputation round 67/110, elapsed time 3.259\n",
      "[MICE] Starting imputation round 68/110, elapsed time 3.275\n",
      "[MICE] Starting imputation round 69/110, elapsed time 3.353\n",
      "[MICE] Starting imputation round 70/110, elapsed time 3.372\n",
      "[MICE] Starting imputation round 71/110, elapsed time 3.404\n",
      "[MICE] Starting imputation round 72/110, elapsed time 3.419\n",
      "[MICE] Starting imputation round 73/110, elapsed time 3.450\n",
      "[MICE] Starting imputation round 74/110, elapsed time 3.466\n",
      "[MICE] Starting imputation round 75/110, elapsed time 3.497\n",
      "[MICE] Starting imputation round 76/110, elapsed time 3.513\n",
      "[MICE] Starting imputation round 77/110, elapsed time 3.544\n",
      "[MICE] Starting imputation round 78/110, elapsed time 3.634\n",
      "[MICE] Starting imputation round 79/110, elapsed time 3.660\n",
      "[MICE] Starting imputation round 80/110, elapsed time 3.680\n",
      "[MICE] Starting imputation round 81/110, elapsed time 3.696\n",
      "[MICE] Starting imputation round 82/110, elapsed time 3.727\n",
      "[MICE] Starting imputation round 83/110, elapsed time 3.774\n",
      "[MICE] Starting imputation round 84/110, elapsed time 3.789\n",
      "[MICE] Starting imputation round 85/110, elapsed time 3.821\n",
      "[MICE] Starting imputation round 86/110, elapsed time 3.882\n",
      "[MICE] Starting imputation round 87/110, elapsed time 3.905\n",
      "[MICE] Starting imputation round 88/110, elapsed time 3.921\n",
      "[MICE] Starting imputation round 89/110, elapsed time 3.952\n",
      "[MICE] Starting imputation round 90/110, elapsed time 3.968\n",
      "[MICE] Starting imputation round 91/110, elapsed time 3.999\n",
      "[MICE] Starting imputation round 92/110, elapsed time 4.030\n",
      "[MICE] Starting imputation round 93/110, elapsed time 4.046\n",
      "[MICE] Starting imputation round 94/110, elapsed time 4.077\n",
      "[MICE] Starting imputation round 95/110, elapsed time 4.177\n",
      "[MICE] Starting imputation round 96/110, elapsed time 4.348\n",
      "[MICE] Starting imputation round 97/110, elapsed time 4.612\n",
      "[MICE] Starting imputation round 98/110, elapsed time 4.825\n",
      "[MICE] Starting imputation round 99/110, elapsed time 5.069\n",
      "[MICE] Starting imputation round 100/110, elapsed time 5.303\n",
      "[MICE] Starting imputation round 101/110, elapsed time 5.576\n",
      "[MICE] Starting imputation round 102/110, elapsed time 5.664\n",
      "[MICE] Starting imputation round 103/110, elapsed time 5.693\n",
      "[MICE] Starting imputation round 104/110, elapsed time 5.720\n",
      "[MICE] Starting imputation round 105/110, elapsed time 5.745\n",
      "[MICE] Starting imputation round 106/110, elapsed time 5.775\n",
      "[MICE] Starting imputation round 107/110, elapsed time 5.823\n",
      "[MICE] Starting imputation round 108/110, elapsed time 5.848\n",
      "[MICE] Starting imputation round 109/110, elapsed time 5.869\n",
      "[MICE] Starting imputation round 110/110, elapsed time 5.885\n"
     ]
    }
   ],
   "source": [
    "from fancyimpute import MICE\n",
    "data2 = pd.DataFrame(MICE().complete(data1))"
   ]
  },
  {
   "cell_type": "code",
   "execution_count": 19,
   "metadata": {
    "collapsed": true
   },
   "outputs": [],
   "source": [
    "data2.columns = ['Age1',\n",
    "'Sex',\n",
    "'Height',\n",
    "'Weight',\n",
    "'QRS_duration',\n",
    "'P-R_interval',\n",
    "'Q-T_interval',\n",
    "'T_interval',\n",
    "'P_interval',\n",
    "'QRS',\n",
    "'T',\n",
    "'P',\n",
    "'QRST',\n",
    "'Heart_rate',\n",
    "'DI-Q_wave',\n",
    "'DI-R_wave',\n",
    "'DI-S_wave',\n",
    "'DI-R`_wave',\n",
    "'DI-S`_wave',\n",
    "'DI-Number_of_intrinsic_deflections_linear',\n",
    "'DI-Existence_of_ragged_R_wave_nominal',\n",
    "'DI-Existence_of_diphasic_derivation_of_R_wave_nominal',\n",
    "'DI-Existence_of_ragged_P_wave_nominal',\n",
    "'DI-Existence_of_diphasic_derivation_of_P_wave_nominal',\n",
    "'DI-Existence_of_ragged_T_wave_nominal',\n",
    "'DI-Existence_of_diphasic_derivation_of_T_wave_nominal',\n",
    "'DII-Q_wave',\n",
    "'DII-R_wave',\n",
    "'DII-S_wave',\n",
    "'DII-R`_wave',\n",
    "'DII-S`_wave',\n",
    "'DII-Number_of_intrinsic_deflections_linear',\n",
    "'DII-Existence_of_ragged_R_wave_nominal',\n",
    "'DII-Existence_of_diphasic_derivation_of_R_wave_nominal',\n",
    "'DII-Existence_of_ragged_P_wave_nominal',\n",
    "'DII-Existence_of_diphasic_derivation_of_P_wave_nominal',\n",
    "'DII-Existence_of_ragged_T_wave_nominal',\n",
    "'DII-Existence_of_diphasic_derivation_of_T_wave_nominal',\n",
    "'DIII-Q_wave',\n",
    "'DIII-R_wave',\n",
    "'DIII-S_wave',\n",
    "'DIII-R`_wave',\n",
    "'DIII-S`_wave',\n",
    "'DIII-Number_of_intrinsic_deflections_linear',\n",
    "'DIII-Existence_of_ragged_R_wave_nominal',\n",
    "'DIII-Existence_of_diphasic_derivation_of_R_wave_nominal',\n",
    "'DIII-Existence_of_ragged_P_wave_nominal',\n",
    "'DIII-Existence_of_diphasic_derivation_of_P_wave_nominal',\n",
    "'DIII-Existence_of_ragged_T_wave_nominal',\n",
    "'DIII-Existence_of_diphasic_derivation_of_T_wave_nominal',\n",
    "'AVR-Q_wave',\n",
    "'AVR-R_wave',\n",
    "'AVR-S_wave',\n",
    "'AVR-R`_wave',\n",
    "'AVR-S`_wave',\n",
    "'AVR-Number_of_intrinsic_deflections_linear',\n",
    "'AVR-Existence_of_ragged_R_wave_nominal',\n",
    "'AVR-Existence_of_diphasic_derivation_of_R_wave_nominal',\n",
    "'AVR-Existence_of_ragged_P_wave_nominal',\n",
    "'AVR-Existence_of_diphasic_derivation_of_P_wave_nominal',\n",
    "'AVR-Existence_of_ragged_T_wave_nominal',\n",
    "'AVR-Existence_of_diphasic_derivation_of_T_wave_nominal',\n",
    "'AVL-Q_wave',\n",
    "'AVL-R_wave',\n",
    "'AVL-S_wave',\n",
    "'AVL-R`_wave',\n",
    "'AVL-S`_wave',\n",
    "'AVL-Number_of_intrinsic_deflections_linear',\n",
    "'AVL-Existence_of_ragged_R_wave_nominal',\n",
    "'AVL-Existence_of_diphasic_derivation_of_R_wave_nominal',\n",
    "'AVL-Existence_of_ragged_P_wave_nominal',\n",
    "'AVL-Existence_of_diphasic_derivation_of_P_wave_nominal',\n",
    "'AVL-Existence_of_ragged_T_wave_nominal',\n",
    "'AVL-Existence_of_diphasic_derivation_of_T_wave_nominal',\n",
    "'AVF-Q_wave',\n",
    "'AVF-R_wave',\n",
    "'AVF-S_wave',\n",
    "'AVF-R`_wave',\n",
    "'AVF-S`_wave',\n",
    "'AVF-Number_of_intrinsic_deflections_linear',\n",
    "'AVF-Existence_of_ragged_R_wave_nominal',\n",
    "'AVF-Existence_of_diphasic_derivation_of_R_wave_nominal',\n",
    "'AVF-Existence_of_ragged_P_wave_nominal',\n",
    "'AVF-Existence_of_diphasic_derivation_of_P_wave_nominal',\n",
    "'AVF-Existence_of_ragged_T_wave_nominal',\n",
    "'AVF-Existence_of_diphasic_derivation_of_T_wave_nominal',\n",
    "'V1-Q_wave',\n",
    "'V1-R_wave',\n",
    "'V1-S_wave',\n",
    "'V1-R`_wave',\n",
    "'V1-S`_wave',\n",
    "'V1-Number_of_intrinsic_deflections_linear',\n",
    "'V1-Existence_of_ragged_R_wave_nominal',\n",
    "'V1-Existence_of_diphasic_derivation_of_R_wave_nominal',\n",
    "'V1-Existence_of_ragged_P_wave_nominal',\n",
    "'V1-Existence_of_diphasic_derivation_of_P_wave_nominal',\n",
    "'V1-Existence_of_ragged_T_wave_nominal',\n",
    "'V1-Existence_of_diphasic_derivation_of_T_wave_nominal',\n",
    "'V2-Q_wave',\n",
    "'V2-R_wave',\n",
    "'V2-S_wave',\n",
    "'V2-R`_wave',\n",
    "'V2-S`_wave',\n",
    "'V2-Number_of_intrinsic_deflections_linear',\n",
    "'V2-Existence_of_ragged_R_wave_nominal',\n",
    "'V2-Existence_of_diphasic_derivation_of_R_wave_nominal',\n",
    "'V2-Existence_of_ragged_P_wave_nominal',\n",
    "'V2-Existence_of_diphasic_derivation_of_P_wave_nominal',\n",
    "'V2-Existence_of_ragged_T_wave_nominal',\n",
    "'V2-Existence_of_diphasic_derivation_of_T_wave_nominal',\n",
    "'V3-Q_wave',\n",
    "'V3-R_wave',\n",
    "'V3-S_wave',\n",
    "'V3-R`_wave',\n",
    "'V3-S`_wave',\n",
    "'V3-Number_of_intrinsic_deflections_linear',\n",
    "'V3-Existence_of_ragged_R_wave_nominal',\n",
    "'V3-Existence_of_diphasic_derivation_of_R_wave_nominal',\n",
    "'V3-Existence_of_ragged_P_wave_nominal',\n",
    "'V3-Existence_of_diphasic_derivation_of_P_wave_nominal',\n",
    "'V3-Existence_of_ragged_T_wave_nominal',\n",
    "'V3-Existence_of_diphasic_derivation_of_T_wave_nominal',\n",
    "'V4-Q_wave',\n",
    "'V4-R_wave',\n",
    "'V4-S_wave',\n",
    "'V4-R`_wave',\n",
    "'V4-S`_wave',\n",
    "'V4-Number_of_intrinsic_deflections_linear',\n",
    "'V4-Existence_of_ragged_R_wave_nominal',\n",
    "'V4-Existence_of_diphasic_derivation_of_R_wave_nominal',\n",
    "'V4-Existence_of_ragged_P_wave_nominal',\n",
    "'V4-Existence_of_diphasic_derivation_of_P_wave_nominal',\n",
    "'V4-Existence_of_ragged_T_wave_nominal',\n",
    "'V4-Existence_of_diphasic_derivation_of_T_wave_nominal',\n",
    "'V5-Q_wave',\n",
    "'V5-R_wave',\n",
    "'V5-S_wave',\n",
    "'V5-R`_wave',\n",
    "'V5-S`_wave',\n",
    "'V5-Number_of_intrinsic_deflections_linear',\n",
    "'V5-Existence_of_ragged_R_wave_nominal',\n",
    "'V5-Existence_of_diphasic_derivation_of_R_wave_nominal',\n",
    "'V5-Existence_of_ragged_P_wave_nominal',\n",
    "'V5-Existence_of_diphasic_derivation_of_P_wave_nominal',\n",
    "'V5-Existence_of_ragged_T_wave_nominal',\n",
    "'V5-Existence_of_diphasic_derivation_of_T_wave_nominal',\n",
    "'V6-Q_wave',\n",
    "'V6-R_wave',\n",
    "'V6-S_wave',\n",
    "'V6-R`_wave',\n",
    "'V6-S`_wave',\n",
    "'V6-Number_of_intrinsic_deflections_linear',\n",
    "'V6-Existence_of_ragged_R_wave_nominal',\n",
    "'V6-Existence_of_diphasic_derivation_of_R_wave_nominal',\n",
    "'V6-Existence_of_ragged_P_wave_nominal',\n",
    "'V6-Existence_of_diphasic_derivation_of_P_wave_nominal',\n",
    "'V6-Existence_of_ragged_T_wave_nominal',\n",
    "'V6-Existence_of_diphasic_derivation_of_T_wave_nominal',\n",
    "'DI-Amp-JJ_wave',\n",
    "'DI-Amp-Q_wave',\n",
    "'DI-Amp-R_wave',\n",
    "'DI-Amp-S_wave',\n",
    "'DI-Amp-R`_wave',\n",
    "'DI-Amp-S`_wave',\n",
    "'DI-Amp-P_wave',\n",
    "'DI-Amp-T_wave',\n",
    "'DI-Amp-QRSA',\n",
    "'DI-Amp-QRSTA',\n",
    "'DII-Amp-JJ_wave',\n",
    "'DII-Amp-Q_wave',\n",
    "'DII-Amp-R_wave',\n",
    "'DII-Amp-S_wave',\n",
    "'DII-Amp-R`_wave',\n",
    "'DII-Amp-S`_wave',\n",
    "'DII-Amp-P_wave',\n",
    "'DII-Amp-T_wave',\n",
    "'DII-Amp-QRSA',\n",
    "'DII-Amp-QRSTA',\n",
    "'DIII-Amp-JJ_wave',\n",
    "'DIII-Amp-Q_wave',\n",
    "'DIII-Amp-R_wave',\n",
    "'DIII-Amp-S_wave',\n",
    "'DIII-Amp-R`_wave',\n",
    "'DIII-Amp-S`_wave',\n",
    "'DIII-Amp-P_wave',\n",
    "'DIII-Amp-T_wave',\n",
    "'DIII-Amp-QRSA',\n",
    "'DIII-Amp-QRSTA',\n",
    "'AVR-Amp-JJ_wave',\n",
    "'AVR-Amp-Q_wave',\n",
    "'AVR-Amp-R_wave',\n",
    "'AVR-Amp-S_wave',\n",
    "'AVR-Amp-R`_wave',\n",
    "'AVR-Amp-S`_wave',\n",
    "'AVR-Amp-P_wave',\n",
    "'AVR-Amp-T_wave',\n",
    "'AVR-Amp-QRSA',\n",
    "'AVR-Amp-QRSTA',\n",
    "'AVL-Amp-JJ_wave',\n",
    "'AVL-Amp-Q_wave',\n",
    "'AVL-Amp-R_wave',\n",
    "'AVL-Amp-S_wave',\n",
    "'AVL-Amp-R`_wave',\n",
    "'AVL-Amp-S`_wave',\n",
    "'AVL-Amp-P_wave',\n",
    "'AVL-Amp-T_wave',\n",
    "'AVL-Amp-QRSA',\n",
    "'AVL-Amp-QRSTA',\n",
    "'AVF-Amp-JJ_wave',\n",
    "'AVF-Amp-Q_wave',\n",
    "'AVF-Amp-R_wave',\n",
    "'AVF-Amp-S_wave',\n",
    "'AVF-Amp-R`_wave',\n",
    "'AVF-Amp-S`_wave',\n",
    "'AVF-Amp-P_wave',\n",
    "'AVF-Amp-T_wave',\n",
    "'AVF-Amp-QRSA',\n",
    "'AVF-Amp-QRSTA',\n",
    "'V1-Amp-JJ_wave',\n",
    "'V1-Amp-Q_wave',\n",
    "'V1-Amp-R_wave',\n",
    "'V1-Amp-S_wave',\n",
    "'V1-Amp-R`_wave',\n",
    "'V1-Amp-S`_wave',\n",
    "'V1-Amp-P_wave',\n",
    "'V1-Amp-T_wave',\n",
    "'V1-Amp-QRSA',\n",
    "'V1-Amp-QRSTA',\n",
    "'V2-Amp-JJ_wave',\n",
    "'V2-Amp-Q_wave',\n",
    "'V2-Amp-R_wave',\n",
    "'V2-Amp-S_wave',\n",
    "'V2-Amp-R`_wave',\n",
    "'V2-Amp-S`_wave',\n",
    "'V2-Amp-P_wave',\n",
    "'V2-Amp-T_wave',\n",
    "'V2-Amp-QRSA',\n",
    "'V2-Amp-QRSTA',\n",
    "'V3-Amp-JJ_wave',\n",
    "'V3-Amp-Q_wave',\n",
    "'V3-Amp-R_wave',\n",
    "'V3-Amp-S_wave',\n",
    "'V3-Amp-R`_wave',\n",
    "'V3-Amp-S`_wave',\n",
    "'V3-Amp-P_wave',\n",
    "'V3-Amp-T_wave',\n",
    "'V3-Amp-QRSA',\n",
    "'V3-Amp-QRSTA',\n",
    "'V4-Amp-JJ_wave',\n",
    "'V4-Amp-Q_wave',\n",
    "'V4-Amp-R_wave',\n",
    "'V4-Amp-S_wave',\n",
    "'V4-Amp-R`_wave',\n",
    "'V4-Amp-S`_wave',\n",
    "'V4-Amp-P_wave',\n",
    "'V4-Amp-T_wave',\n",
    "'V4-Amp-QRSA',\n",
    "'V4-Amp-QRSTA',\n",
    "'V5-Amp-JJ_wave',\n",
    "'V5-Amp-Q_wave',\n",
    "'V5-Amp-R_wave',\n",
    "'V5-Amp-S_wave',\n",
    "'V5-Amp-R`_wave',\n",
    "'V5-Amp-S`_wave',\n",
    "'V5-Amp-P_wave',\n",
    "'V5-Amp-T_wave',\n",
    "'V5-Amp-QRSA',\n",
    "'V5-Amp-QRSTA',\n",
    "'V6-Amp-JJ_wave',\n",
    "'V6-Amp-Q_wave',\n",
    "'V6-Amp-R_wave',\n",
    "'V6-Amp-S_wave',\n",
    "'V6-Amp-R`_wave',\n",
    "'V6-Amp-S`_wave',\n",
    "'V6-Amp-P_wave',\n",
    "'V6-Amp-T_wave',\n",
    "'V6-Amp-QRSA',\n",
    "'V6-Amp-QRSTA',\n",
    "'Class_Code']\n"
   ]
  },
  {
   "cell_type": "code",
   "execution_count": 20,
   "metadata": {},
   "outputs": [
    {
     "data": {
      "text/html": [
       "<div>\n",
       "<style>\n",
       "    .dataframe thead tr:only-child th {\n",
       "        text-align: right;\n",
       "    }\n",
       "\n",
       "    .dataframe thead th {\n",
       "        text-align: left;\n",
       "    }\n",
       "\n",
       "    .dataframe tbody tr th {\n",
       "        vertical-align: top;\n",
       "    }\n",
       "</style>\n",
       "<table border=\"1\" class=\"dataframe\">\n",
       "  <thead>\n",
       "    <tr style=\"text-align: right;\">\n",
       "      <th></th>\n",
       "      <th>Age1</th>\n",
       "      <th>Sex</th>\n",
       "      <th>Height</th>\n",
       "      <th>Weight</th>\n",
       "      <th>QRS_duration</th>\n",
       "      <th>P-R_interval</th>\n",
       "      <th>Q-T_interval</th>\n",
       "      <th>T_interval</th>\n",
       "      <th>P_interval</th>\n",
       "      <th>QRS</th>\n",
       "      <th>...</th>\n",
       "      <th>V6-Amp-Q_wave</th>\n",
       "      <th>V6-Amp-R_wave</th>\n",
       "      <th>V6-Amp-S_wave</th>\n",
       "      <th>V6-Amp-R`_wave</th>\n",
       "      <th>V6-Amp-S`_wave</th>\n",
       "      <th>V6-Amp-P_wave</th>\n",
       "      <th>V6-Amp-T_wave</th>\n",
       "      <th>V6-Amp-QRSA</th>\n",
       "      <th>V6-Amp-QRSTA</th>\n",
       "      <th>Class_Code</th>\n",
       "    </tr>\n",
       "  </thead>\n",
       "  <tbody>\n",
       "    <tr>\n",
       "      <th>0</th>\n",
       "      <td>75.0</td>\n",
       "      <td>0.0</td>\n",
       "      <td>190.0</td>\n",
       "      <td>80.0</td>\n",
       "      <td>91.0</td>\n",
       "      <td>193.0</td>\n",
       "      <td>371.0</td>\n",
       "      <td>174.0</td>\n",
       "      <td>121.0</td>\n",
       "      <td>-16.0</td>\n",
       "      <td>...</td>\n",
       "      <td>0.0</td>\n",
       "      <td>9.0</td>\n",
       "      <td>-0.9</td>\n",
       "      <td>0.0</td>\n",
       "      <td>0.0</td>\n",
       "      <td>0.9</td>\n",
       "      <td>2.9</td>\n",
       "      <td>23.3</td>\n",
       "      <td>49.4</td>\n",
       "      <td>8.0</td>\n",
       "    </tr>\n",
       "    <tr>\n",
       "      <th>1</th>\n",
       "      <td>56.0</td>\n",
       "      <td>1.0</td>\n",
       "      <td>165.0</td>\n",
       "      <td>64.0</td>\n",
       "      <td>81.0</td>\n",
       "      <td>174.0</td>\n",
       "      <td>401.0</td>\n",
       "      <td>149.0</td>\n",
       "      <td>39.0</td>\n",
       "      <td>25.0</td>\n",
       "      <td>...</td>\n",
       "      <td>0.0</td>\n",
       "      <td>8.5</td>\n",
       "      <td>0.0</td>\n",
       "      <td>0.0</td>\n",
       "      <td>0.0</td>\n",
       "      <td>0.2</td>\n",
       "      <td>2.1</td>\n",
       "      <td>20.4</td>\n",
       "      <td>38.8</td>\n",
       "      <td>6.0</td>\n",
       "    </tr>\n",
       "    <tr>\n",
       "      <th>2</th>\n",
       "      <td>54.0</td>\n",
       "      <td>0.0</td>\n",
       "      <td>172.0</td>\n",
       "      <td>95.0</td>\n",
       "      <td>138.0</td>\n",
       "      <td>163.0</td>\n",
       "      <td>386.0</td>\n",
       "      <td>185.0</td>\n",
       "      <td>102.0</td>\n",
       "      <td>96.0</td>\n",
       "      <td>...</td>\n",
       "      <td>0.0</td>\n",
       "      <td>9.5</td>\n",
       "      <td>-2.4</td>\n",
       "      <td>0.0</td>\n",
       "      <td>0.0</td>\n",
       "      <td>0.3</td>\n",
       "      <td>3.4</td>\n",
       "      <td>12.3</td>\n",
       "      <td>49.0</td>\n",
       "      <td>10.0</td>\n",
       "    </tr>\n",
       "    <tr>\n",
       "      <th>3</th>\n",
       "      <td>55.0</td>\n",
       "      <td>0.0</td>\n",
       "      <td>175.0</td>\n",
       "      <td>94.0</td>\n",
       "      <td>100.0</td>\n",
       "      <td>202.0</td>\n",
       "      <td>380.0</td>\n",
       "      <td>179.0</td>\n",
       "      <td>143.0</td>\n",
       "      <td>28.0</td>\n",
       "      <td>...</td>\n",
       "      <td>0.0</td>\n",
       "      <td>12.2</td>\n",
       "      <td>-2.2</td>\n",
       "      <td>0.0</td>\n",
       "      <td>0.0</td>\n",
       "      <td>0.4</td>\n",
       "      <td>2.6</td>\n",
       "      <td>34.6</td>\n",
       "      <td>61.6</td>\n",
       "      <td>1.0</td>\n",
       "    </tr>\n",
       "    <tr>\n",
       "      <th>4</th>\n",
       "      <td>75.0</td>\n",
       "      <td>0.0</td>\n",
       "      <td>190.0</td>\n",
       "      <td>80.0</td>\n",
       "      <td>88.0</td>\n",
       "      <td>181.0</td>\n",
       "      <td>360.0</td>\n",
       "      <td>177.0</td>\n",
       "      <td>103.0</td>\n",
       "      <td>-16.0</td>\n",
       "      <td>...</td>\n",
       "      <td>0.0</td>\n",
       "      <td>13.1</td>\n",
       "      <td>-3.6</td>\n",
       "      <td>0.0</td>\n",
       "      <td>0.0</td>\n",
       "      <td>-0.1</td>\n",
       "      <td>3.9</td>\n",
       "      <td>25.4</td>\n",
       "      <td>62.8</td>\n",
       "      <td>7.0</td>\n",
       "    </tr>\n",
       "  </tbody>\n",
       "</table>\n",
       "<p>5 rows × 279 columns</p>\n",
       "</div>"
      ],
      "text/plain": [
       "   Age1  Sex  Height  Weight  QRS_duration  P-R_interval  Q-T_interval  \\\n",
       "0  75.0  0.0   190.0    80.0          91.0         193.0         371.0   \n",
       "1  56.0  1.0   165.0    64.0          81.0         174.0         401.0   \n",
       "2  54.0  0.0   172.0    95.0         138.0         163.0         386.0   \n",
       "3  55.0  0.0   175.0    94.0         100.0         202.0         380.0   \n",
       "4  75.0  0.0   190.0    80.0          88.0         181.0         360.0   \n",
       "\n",
       "   T_interval  P_interval   QRS     ...      V6-Amp-Q_wave  V6-Amp-R_wave  \\\n",
       "0       174.0       121.0 -16.0     ...                0.0            9.0   \n",
       "1       149.0        39.0  25.0     ...                0.0            8.5   \n",
       "2       185.0       102.0  96.0     ...                0.0            9.5   \n",
       "3       179.0       143.0  28.0     ...                0.0           12.2   \n",
       "4       177.0       103.0 -16.0     ...                0.0           13.1   \n",
       "\n",
       "   V6-Amp-S_wave  V6-Amp-R`_wave  V6-Amp-S`_wave  V6-Amp-P_wave  \\\n",
       "0           -0.9             0.0             0.0            0.9   \n",
       "1            0.0             0.0             0.0            0.2   \n",
       "2           -2.4             0.0             0.0            0.3   \n",
       "3           -2.2             0.0             0.0            0.4   \n",
       "4           -3.6             0.0             0.0           -0.1   \n",
       "\n",
       "   V6-Amp-T_wave  V6-Amp-QRSA  V6-Amp-QRSTA  Class_Code  \n",
       "0            2.9         23.3          49.4         8.0  \n",
       "1            2.1         20.4          38.8         6.0  \n",
       "2            3.4         12.3          49.0        10.0  \n",
       "3            2.6         34.6          61.6         1.0  \n",
       "4            3.9         25.4          62.8         7.0  \n",
       "\n",
       "[5 rows x 279 columns]"
      ]
     },
     "execution_count": 20,
     "metadata": {},
     "output_type": "execute_result"
    }
   ],
   "source": [
    "data2.head()"
   ]
  },
  {
   "cell_type": "code",
   "execution_count": 21,
   "metadata": {},
   "outputs": [
    {
     "data": {
      "text/plain": [
       "0"
      ]
     },
     "execution_count": 21,
     "metadata": {},
     "output_type": "execute_result"
    }
   ],
   "source": [
    "data2.isnull().values.sum()"
   ]
  },
  {
   "cell_type": "markdown",
   "metadata": {},
   "source": [
    "# Splitting into train and test sets"
   ]
  },
  {
   "cell_type": "code",
   "execution_count": 73,
   "metadata": {
    "collapsed": true
   },
   "outputs": [],
   "source": [
    "X = data2.drop(['Class_Code'],axis = 1)\n",
    "Y = data2['Class_Code']"
   ]
  },
  {
   "cell_type": "code",
   "execution_count": 74,
   "metadata": {
    "collapsed": true
   },
   "outputs": [],
   "source": [
    "from sklearn.model_selection import train_test_split\n",
    "X_train, X_test, Y_train, Y_test = train_test_split(X, Y, random_state=0, test_size = 0.2)"
   ]
  },
  {
   "cell_type": "code",
   "execution_count": 75,
   "metadata": {},
   "outputs": [
    {
     "name": "stdout",
     "output_type": "stream",
     "text": [
      "X_train shape is :  (361, 278)\n",
      "X_test shape is :  (91, 278)\n",
      "Y_train shape is :  (361,)\n",
      "Y_test shape is :  (91,)\n"
     ]
    }
   ],
   "source": [
    "print ('X_train shape is : ', X_train.shape)\n",
    "print('X_test shape is : ', X_test.shape)\n",
    "print('Y_train shape is : ', Y_train.shape)\n",
    "print('Y_test shape is : ', Y_test.shape)"
   ]
  },
  {
   "cell_type": "markdown",
   "metadata": {},
   "source": [
    "# Scaled using MinMax Scaler"
   ]
  },
  {
   "cell_type": "code",
   "execution_count": 76,
   "metadata": {
    "collapsed": true
   },
   "outputs": [],
   "source": [
    "from sklearn.preprocessing import MinMaxScaler\n",
    "scaler = MinMaxScaler()\n",
    "X_train_scaled = scaler.fit_transform(X_train)\n",
    "X_test_scaled = scaler.transform(X_test)\n"
   ]
  },
  {
   "cell_type": "markdown",
   "metadata": {},
   "source": [
    "# Evaluation Strategy:\n",
    "The evaluation strategy used is Recall_weighted.Addressing the false negatives in this classification is paramount; an incorrect prediction can adversely impact the course of treatment for a patient particularly when the algorithm fails to detect a medical condition when it is present."
   ]
  },
  {
   "cell_type": "markdown",
   "metadata": {},
   "source": [
    "### 1. LogisticRegression"
   ]
  },
  {
   "cell_type": "code",
   "execution_count": 77,
   "metadata": {},
   "outputs": [
    {
     "name": "stdout",
     "output_type": "stream",
     "text": [
      "Best parameters{'C': 1}\n",
      "Best score 0.68\n"
     ]
    }
   ],
   "source": [
    "from sklearn.model_selection import GridSearchCV\n",
    "from sklearn.linear_model import LogisticRegression\n",
    "\n",
    "clf = LogisticRegression()\n",
    "param_grid = {'C':[0.001, 0.01, 0.1, 1, 10, 100, 1000]}\n",
    "\n",
    "grid_search = GridSearchCV(clf, param_grid, cv = 2, scoring='recall_weighted')\n",
    "grid_search.fit(X_train_scaled, Y_train)\n",
    "\n",
    "print('Best parameters{}'.format(grid_search.best_params_))\n",
    "print('Best score {:.2f}'.format(grid_search.best_score_))"
   ]
  },
  {
   "cell_type": "code",
   "execution_count": 78,
   "metadata": {},
   "outputs": [
    {
     "name": "stdout",
     "output_type": "stream",
     "text": [
      "Accuracy of Logistic Regression Classifier on training set: 0.83\n",
      "Accuracy of Logistic Regression Classifier on test set: 0.65\n"
     ]
    }
   ],
   "source": [
    "clf = LogisticRegression(C=1).fit(X_train_scaled,Y_train)\n",
    "print('Accuracy of Logistic Regression Classifier on training set: {:.2f}'.format(clf.score(X_train_scaled,Y_train)))\n",
    "print('Accuracy of Logistic Regression Classifier on test set: {:.2f}'.format(clf.score(X_test_scaled,Y_test)))\n"
   ]
  },
  {
   "cell_type": "markdown",
   "metadata": {},
   "source": [
    "### 2. KNN"
   ]
  },
  {
   "cell_type": "code",
   "execution_count": 79,
   "metadata": {},
   "outputs": [
    {
     "name": "stdout",
     "output_type": "stream",
     "text": [
      "Best parameters{'n_neighbors': 5}\n",
      "Best score 0.58\n"
     ]
    }
   ],
   "source": [
    "from sklearn.model_selection import GridSearchCV\n",
    "from sklearn.neighbors import KNeighborsClassifier\n",
    "\n",
    "knn = KNeighborsClassifier()\n",
    "param_grid = {'n_neighbors':[1, 5, 10, 15, 20, 25, 30]}\n",
    "\n",
    "grid_search = GridSearchCV(knn, param_grid, cv = 2,scoring='recall_weighted')\n",
    "grid_search.fit(X_train_scaled, Y_train)\n",
    "\n",
    "print('Best parameters{}'.format(grid_search.best_params_))\n",
    "print('Best score {:.2f}'.format(grid_search.best_score_))"
   ]
  },
  {
   "cell_type": "code",
   "execution_count": 80,
   "metadata": {},
   "outputs": [
    {
     "name": "stdout",
     "output_type": "stream",
     "text": [
      "Accuracy of K-NN classifier on training set: 0.65\n",
      "Accuracy of K-NN classifier on test set: 0.59\n"
     ]
    }
   ],
   "source": [
    "knn = KNeighborsClassifier(n_neighbors = 5)\n",
    "knn.fit(X_train_scaled, Y_train)\n",
    "print('Accuracy of K-NN classifier on training set: {:.2f}'\n",
    "     .format(knn.score(X_train_scaled, Y_train)))\n",
    "print('Accuracy of K-NN classifier on test set: {:.2f}'\n",
    "     .format(knn.score(X_test_scaled, Y_test)))"
   ]
  },
  {
   "cell_type": "markdown",
   "metadata": {},
   "source": [
    "### 3. SVC Linear"
   ]
  },
  {
   "cell_type": "code",
   "execution_count": 81,
   "metadata": {},
   "outputs": [
    {
     "name": "stdout",
     "output_type": "stream",
     "text": [
      "Best parameters{'C': 0.5, 'gamma': 0.001}\n",
      "Best score 0.69\n"
     ]
    }
   ],
   "source": [
    "from sklearn.svm import SVC\n",
    "svclinear = SVC(kernel = 'linear')\n",
    "param_grid = {'C':[0.001, 0.005, 0.01, 0.05, 0.1, 0.5, 1, 5, 10, 50, 100], \n",
    "              'gamma': [0.001, 0.005, 0.01, 0.05, 0.1, 0.5, 1, 5, 10, 50, 100]}\n",
    "\n",
    "grid_search = GridSearchCV(svclinear, param_grid, cv = 2)\n",
    "grid_search.fit(X_train_scaled, Y_train)\n",
    "\n",
    "print('Best parameters{}'.format(grid_search.best_params_))\n",
    "print('Best score {:.2f}'.format(grid_search.best_score_))"
   ]
  },
  {
   "cell_type": "code",
   "execution_count": 82,
   "metadata": {},
   "outputs": [
    {
     "name": "stdout",
     "output_type": "stream",
     "text": [
      "0.8476454293628809\n",
      "0.7032967032967034\n"
     ]
    }
   ],
   "source": [
    "svclinear = SVC(kernel = 'linear',C=0.5,gamma=0.001)\n",
    "svclinear.fit(X_train_scaled, Y_train)\n",
    "\n",
    "print(svclinear.score(X_train_scaled, Y_train))\n",
    "print(svclinear.score(X_test_scaled, Y_test))"
   ]
  },
  {
   "cell_type": "markdown",
   "metadata": {},
   "source": [
    "### 4. SVC Kernel"
   ]
  },
  {
   "cell_type": "code",
   "execution_count": 83,
   "metadata": {},
   "outputs": [
    {
     "name": "stdout",
     "output_type": "stream",
     "text": [
      "Best parameters{'C': 5, 'gamma': 0.05}\n",
      "Best score 0.70\n"
     ]
    }
   ],
   "source": [
    "from sklearn.svm import SVC\n",
    "svckernal = SVC(kernel = 'rbf')\n",
    "param_grid = {'C':[0.001, 0.005, 0.01, 0.05, 0.1, 0.5, 1, 5, 10, 50, 100], \n",
    "              'gamma': [0.001, 0.005, 0.01, 0.05, 0.1, 0.5, 1, 5, 10, 50, 100]}\n",
    "\n",
    "grid_search = GridSearchCV(svckernal, param_grid, cv = 2)\n",
    "grid_search.fit(X_train_scaled, Y_train)\n",
    "\n",
    "print('Best parameters{}'.format(grid_search.best_params_))\n",
    "print('Best score {:.2f}'.format(grid_search.best_score_))"
   ]
  },
  {
   "cell_type": "code",
   "execution_count": 84,
   "metadata": {},
   "outputs": [
    {
     "name": "stdout",
     "output_type": "stream",
     "text": [
      "0.8670360110803325\n",
      "0.7032967032967034\n"
     ]
    }
   ],
   "source": [
    "svckernal = SVC(kernel = 'rbf',C=5,gamma=0.05)\n",
    "svckernal.fit(X_train_scaled, Y_train)\n",
    "\n",
    "print(svckernal.score(X_train_scaled, Y_train))\n",
    "print(svckernal.score(X_test_scaled, Y_test))"
   ]
  },
  {
   "cell_type": "markdown",
   "metadata": {},
   "source": [
    "### 5. Decision Tree"
   ]
  },
  {
   "cell_type": "code",
   "execution_count": 85,
   "metadata": {},
   "outputs": [
    {
     "name": "stdout",
     "output_type": "stream",
     "text": [
      "Best parameters{'max_depth': 6}\n",
      "Best score 0.70\n"
     ]
    }
   ],
   "source": [
    "from sklearn.tree import DecisionTreeClassifier\n",
    "from sklearn.model_selection import GridSearchCV\n",
    "\n",
    "DTC = DecisionTreeClassifier()\n",
    "\n",
    "param_grid = {'max_depth': range(1,11)}\n",
    "\n",
    "grid_search = GridSearchCV(DTC, param_grid, cv = 2,scoring='recall_weighted')\n",
    "grid_search.fit(X_train_scaled, Y_train)   \n",
    "\n",
    "print('Best parameters{}'.format(grid_search.best_params_))\n",
    "print('Best score {:.2f}'.format(grid_search.best_score_))"
   ]
  },
  {
   "cell_type": "code",
   "execution_count": 86,
   "metadata": {},
   "outputs": [
    {
     "name": "stdout",
     "output_type": "stream",
     "text": [
      "0.8448753462603878\n",
      "0.5604395604395604\n"
     ]
    }
   ],
   "source": [
    "DTC = DecisionTreeClassifier(max_depth=6)\n",
    "DTC.fit(X_train_scaled,Y_train)\n",
    "\n",
    "print(DTC.score(X_train_scaled, Y_train))\n",
    "print(DTC.score(X_test_scaled, Y_test))"
   ]
  },
  {
   "cell_type": "markdown",
   "metadata": {},
   "source": [
    "### 6. Random Forest"
   ]
  },
  {
   "cell_type": "code",
   "execution_count": 87,
   "metadata": {},
   "outputs": [
    {
     "name": "stdout",
     "output_type": "stream",
     "text": [
      "Best parameters{'max_depth': 10, 'n_estimators': 150}\n",
      "Best score 0.71\n"
     ]
    }
   ],
   "source": [
    "from sklearn.ensemble import RandomForestClassifier\n",
    "from sklearn.model_selection import GridSearchCV\n",
    "\n",
    "RFC = RandomForestClassifier()\n",
    "\n",
    "param_grid = {'max_depth': range(1,11),'n_estimators' : [10,50,100,150,200]}\n",
    "\n",
    "grid_search = GridSearchCV(RFC, param_grid, cv = 2 ,scoring='recall_weighted')\n",
    "grid_search.fit(X_train_scaled, Y_train)   \n",
    "\n",
    "print('Best parameters{}'.format(grid_search.best_params_))\n",
    "print('Best score {:.2f}'.format(grid_search.best_score_))"
   ]
  },
  {
   "cell_type": "code",
   "execution_count": 88,
   "metadata": {},
   "outputs": [
    {
     "name": "stdout",
     "output_type": "stream",
     "text": [
      "0.96398891966759\n",
      "0.6813186813186813\n"
     ]
    }
   ],
   "source": [
    "RFC = RandomForestClassifier(max_depth=10,n_estimators= 150)\n",
    "RFC.fit(X_train_scaled,Y_train)\n",
    "\n",
    "print(RFC.score(X_train_scaled, Y_train))\n",
    "print(RFC.score(X_test_scaled, Y_test))"
   ]
  },
  {
   "cell_type": "markdown",
   "metadata": {},
   "source": [
    "# Bagging Multiple Classifiers"
   ]
  },
  {
   "cell_type": "markdown",
   "metadata": {},
   "source": [
    "### 1. Logistic Regression"
   ]
  },
  {
   "cell_type": "code",
   "execution_count": 89,
   "metadata": {},
   "outputs": [
    {
     "name": "stdout",
     "output_type": "stream",
     "text": [
      "Accuracy of bagging classifier on training set: 0.66\n",
      "Accuracy of bagging classifier on test set: 0.63\n",
      "\n"
     ]
    }
   ],
   "source": [
    "from sklearn.ensemble import BaggingClassifier\n",
    "\n",
    "bag_clf= BaggingClassifier(clf, max_samples = 100, random_state = 10)\n",
    "bag_clf.fit(X_train_scaled, Y_train)\n",
    "\n",
    "print('Accuracy of bagging classifier on training set: {:.2f}'\n",
    "     .format(bag_clf.score(X_train_scaled, Y_train)))\n",
    "print('Accuracy of bagging classifier on test set: {:.2f}\\n'\n",
    "     .format(bag_clf.score(X_test_scaled, Y_test)))\n"
   ]
  },
  {
   "cell_type": "markdown",
   "metadata": {
    "collapsed": true
   },
   "source": [
    "### 2. KNN"
   ]
  },
  {
   "cell_type": "code",
   "execution_count": 90,
   "metadata": {},
   "outputs": [
    {
     "name": "stdout",
     "output_type": "stream",
     "text": [
      "Accuracy of bagging classifier on training set: 0.55\n",
      "Accuracy of bagging classifier on test set: 0.55\n",
      "\n"
     ]
    }
   ],
   "source": [
    "from sklearn.ensemble import BaggingClassifier\n",
    "\n",
    "bag_knn= BaggingClassifier(knn, max_samples = 100, random_state = 10)\n",
    "bag_knn.fit(X_train_scaled, Y_train)\n",
    "\n",
    "print('Accuracy of bagging classifier on training set: {:.2f}'\n",
    "     .format(bag_knn.score(X_train_scaled, Y_train)))\n",
    "print('Accuracy of bagging classifier on test set: {:.2f}\\n'\n",
    "     .format(bag_knn.score(X_test_scaled, Y_test)))\n"
   ]
  },
  {
   "cell_type": "markdown",
   "metadata": {
    "collapsed": true
   },
   "source": [
    "### 3. SVC Linear"
   ]
  },
  {
   "cell_type": "code",
   "execution_count": 91,
   "metadata": {},
   "outputs": [
    {
     "name": "stdout",
     "output_type": "stream",
     "text": [
      "Accuracy of bagging classifier on training set: 0.63\n",
      "Accuracy of bagging classifier on test set: 0.58\n",
      "\n"
     ]
    }
   ],
   "source": [
    "from sklearn.ensemble import BaggingClassifier\n",
    "\n",
    "bag_svclinear= BaggingClassifier(svclinear, max_samples = 100, random_state = 10)\n",
    "bag_svclinear.fit(X_train_scaled, Y_train)\n",
    "\n",
    "print('Accuracy of bagging classifier on training set: {:.2f}'\n",
    "     .format(bag_svclinear.score(X_train_scaled, Y_train)))\n",
    "print('Accuracy of bagging classifier on test set: {:.2f}\\n'\n",
    "     .format(bag_svclinear.score(X_test_scaled, Y_test)))\n"
   ]
  },
  {
   "cell_type": "markdown",
   "metadata": {
    "collapsed": true
   },
   "source": [
    "### 4. SVC Kernel"
   ]
  },
  {
   "cell_type": "code",
   "execution_count": 92,
   "metadata": {},
   "outputs": [
    {
     "name": "stdout",
     "output_type": "stream",
     "text": [
      "Accuracy of bagging classifier on training set: 0.61\n",
      "Accuracy of bagging classifier on test set: 0.58\n",
      "\n"
     ]
    }
   ],
   "source": [
    "from sklearn.ensemble import BaggingClassifier\n",
    "\n",
    "bag_svckernal= BaggingClassifier(svckernal, max_samples = 100, random_state = 10)\n",
    "bag_svckernal.fit(X_train_scaled, Y_train)\n",
    "\n",
    "print('Accuracy of bagging classifier on training set: {:.2f}'\n",
    "     .format(bag_svckernal.score(X_train_scaled, Y_train)))\n",
    "print('Accuracy of bagging classifier on test set: {:.2f}\\n'\n",
    "     .format(bag_svckernal.score(X_test_scaled, Y_test)))"
   ]
  },
  {
   "cell_type": "markdown",
   "metadata": {
    "collapsed": true
   },
   "source": [
    "### 5. Decision Tree"
   ]
  },
  {
   "cell_type": "code",
   "execution_count": 93,
   "metadata": {},
   "outputs": [
    {
     "name": "stdout",
     "output_type": "stream",
     "text": [
      "Accuracy of bagging classifier on training set: 0.78\n",
      "Accuracy of bagging classifier on test set: 0.63\n",
      "\n"
     ]
    }
   ],
   "source": [
    "from sklearn.ensemble import BaggingClassifier\n",
    "\n",
    "bag_DTC= BaggingClassifier(DTC, max_samples = 100, random_state = 10)\n",
    "bag_DTC.fit(X_train_scaled, Y_train)\n",
    "\n",
    "print('Accuracy of bagging classifier on training set: {:.2f}'\n",
    "     .format(bag_DTC.score(X_train_scaled, Y_train)))\n",
    "print('Accuracy of bagging classifier on test set: {:.2f}\\n'\n",
    "     .format(bag_DTC.score(X_test_scaled, Y_test)))"
   ]
  },
  {
   "cell_type": "markdown",
   "metadata": {
    "collapsed": true
   },
   "source": [
    "### 6. Random Forest"
   ]
  },
  {
   "cell_type": "code",
   "execution_count": 94,
   "metadata": {},
   "outputs": [
    {
     "name": "stdout",
     "output_type": "stream",
     "text": [
      "Accuracy of bagging classifier on training set: 0.72\n",
      "Accuracy of bagging classifier on test set: 0.58\n",
      "\n"
     ]
    }
   ],
   "source": [
    "from sklearn.ensemble import BaggingClassifier\n",
    "\n",
    "bag_RFC= BaggingClassifier(RFC, max_samples = 100, random_state = 10)\n",
    "bag_RFC.fit(X_train_scaled, Y_train)\n",
    "\n",
    "print('Accuracy of bagging classifier on training set: {:.2f}'\n",
    "     .format(bag_RFC.score(X_train_scaled, Y_train)))\n",
    "print('Accuracy of bagging classifier on test set: {:.2f}\\n'\n",
    "     .format(bag_RFC.score(X_test_scaled, Y_test)))"
   ]
  },
  {
   "cell_type": "markdown",
   "metadata": {},
   "source": [
    "# Gradient Boosting Classifier"
   ]
  },
  {
   "cell_type": "code",
   "execution_count": 95,
   "metadata": {},
   "outputs": [
    {
     "name": "stdout",
     "output_type": "stream",
     "text": [
      "Best parameters{'learning_rate': 0.01, 'max_depth': 1}\n",
      "Best score 0.73\n"
     ]
    }
   ],
   "source": [
    "from sklearn.ensemble import GradientBoostingClassifier\n",
    "\n",
    "boost = GradientBoostingClassifier(random_state = 10)\n",
    "param_grid = {'learning_rate':[0.001, 0.005, 0.01, 0.05, 0.1], \n",
    "              'max_depth': range(1,11)}\n",
    "\n",
    "grid_search = GridSearchCV(boost, param_grid, cv = 2,scoring='recall_weighted')\n",
    "grid_search.fit(X_train_scaled, Y_train)\n",
    "\n",
    "print('Best parameters{}'.format(grid_search.best_params_))\n",
    "print('Best score {:.2f}'.format(grid_search.best_score_))"
   ]
  },
  {
   "cell_type": "code",
   "execution_count": 96,
   "metadata": {},
   "outputs": [
    {
     "name": "stdout",
     "output_type": "stream",
     "text": [
      "Accuracy of GBDT classifier on training set: 0.84\n",
      "Accuracy of GBDT classifier on test set: 0.66\n",
      "\n"
     ]
    }
   ],
   "source": [
    "boost = GradientBoostingClassifier(learning_rate= 0.01,max_depth= 1,random_state = 10)\n",
    "boost.fit(X_train_scaled, Y_train)\n",
    "\n",
    "print('Accuracy of GBDT classifier on training set: {:.2f}'\n",
    "     .format(boost.score(X_train_scaled, Y_train)))\n",
    "print('Accuracy of GBDT classifier on test set: {:.2f}\\n'\n",
    "     .format(boost.score(X_test_scaled, Y_test)))"
   ]
  },
  {
   "cell_type": "markdown",
   "metadata": {},
   "source": [
    "# AdaBoostClassifier"
   ]
  },
  {
   "cell_type": "code",
   "execution_count": 97,
   "metadata": {},
   "outputs": [
    {
     "name": "stdout",
     "output_type": "stream",
     "text": [
      "Best parameters{'learning_rate': 0.001, 'n_estimators': 50}\n",
      "Best score 0.66\n"
     ]
    }
   ],
   "source": [
    "from sklearn.ensemble import AdaBoostClassifier\n",
    "ada = AdaBoostClassifier()\n",
    "param_grid = {'learning_rate':[0.001, 0.005, 0.01, 0.05, 0.1], \n",
    "              'n_estimators': [50,100,150,200,250,300]}\n",
    "\n",
    "grid_search = GridSearchCV(ada, param_grid, cv = 2,scoring='recall_weighted')\n",
    "grid_search.fit(X_train_scaled, Y_train)\n",
    "\n",
    "print('Best parameters{}'.format(grid_search.best_params_))\n",
    "print('Best score {:.2f}'.format(grid_search.best_score_))"
   ]
  },
  {
   "cell_type": "code",
   "execution_count": 98,
   "metadata": {},
   "outputs": [
    {
     "name": "stdout",
     "output_type": "stream",
     "text": [
      "Accuracy of GBDT classifier on training set: 0.61\n",
      "Accuracy of GBDT classifier on test set: 0.58\n",
      "\n"
     ]
    }
   ],
   "source": [
    "ada = AdaBoostClassifier(learning_rate= 0.001,n_estimators = 50,random_state = 10)\n",
    "ada.fit(X_train_scaled, Y_train)\n",
    "\n",
    "print('Accuracy of GBDT classifier on training set: {:.2f}'\n",
    "     .format(ada.score(X_train_scaled, Y_train)))\n",
    "print('Accuracy of GBDT classifier on test set: {:.2f}\\n'\n",
    "     .format(ada.score(X_test_scaled, Y_test)))"
   ]
  },
  {
   "cell_type": "markdown",
   "metadata": {
    "collapsed": true
   },
   "source": [
    "### 1. Logistic Regression"
   ]
  },
  {
   "cell_type": "code",
   "execution_count": 99,
   "metadata": {},
   "outputs": [
    {
     "name": "stdout",
     "output_type": "stream",
     "text": [
      "Accuracy of GBDT classifier on training set: 0.54\n",
      "Accuracy of GBDT classifier on test set: 0.54\n",
      "\n"
     ]
    }
   ],
   "source": [
    "ada_clf = AdaBoostClassifier(LogisticRegression(C=1),learning_rate= 0.001,n_estimators = 50,random_state = 10)\n",
    "ada_clf.fit(X_train_scaled, Y_train)\n",
    "\n",
    "print('Accuracy of GBDT classifier on training set: {:.2f}'\n",
    "     .format(ada_clf.score(X_train_scaled, Y_train)))\n",
    "print('Accuracy of GBDT classifier on test set: {:.2f}\\n'\n",
    "     .format(ada_clf.score(X_test_scaled, Y_test)))"
   ]
  },
  {
   "cell_type": "markdown",
   "metadata": {
    "collapsed": true
   },
   "source": [
    "### 2. SVC Linear"
   ]
  },
  {
   "cell_type": "code",
   "execution_count": 100,
   "metadata": {},
   "outputs": [
    {
     "name": "stdout",
     "output_type": "stream",
     "text": [
      "Accuracy of GBDT classifier on training set: 0.54\n",
      "Accuracy of GBDT classifier on test set: 0.54\n",
      "\n"
     ]
    }
   ],
   "source": [
    "ada_SVCL = AdaBoostClassifier(SVC(kernel='linear',C=0.5,gamma=0.001),learning_rate= 0.001,n_estimators = 50,random_state = 10,algorithm='SAMME')\n",
    "ada_SVCL.fit(X_train_scaled, Y_train)\n",
    "\n",
    "print('Accuracy of GBDT classifier on training set: {:.2f}'\n",
    "     .format(ada_SVCL.score(X_train_scaled, Y_train)))\n",
    "print('Accuracy of GBDT classifier on test set: {:.2f}\\n'\n",
    "     .format(ada_SVCL.score(X_test_scaled, Y_test)))"
   ]
  },
  {
   "cell_type": "markdown",
   "metadata": {
    "collapsed": true
   },
   "source": [
    "### 3. SVC Kernel"
   ]
  },
  {
   "cell_type": "code",
   "execution_count": 101,
   "metadata": {},
   "outputs": [
    {
     "name": "stdout",
     "output_type": "stream",
     "text": [
      "Accuracy of GBDT classifier on training set: 0.54\n",
      "Accuracy of GBDT classifier on test set: 0.54\n",
      "\n"
     ]
    }
   ],
   "source": [
    "ada_SVCK = AdaBoostClassifier(SVC(kernel='rbf',C=5,gamma=0.5),learning_rate= 0.001,n_estimators = 50,random_state = 10,algorithm='SAMME')\n",
    "ada_SVCK.fit(X_train_scaled, Y_train)\n",
    "\n",
    "print('Accuracy of GBDT classifier on training set: {:.2f}'\n",
    "     .format(ada_SVCK.score(X_train_scaled, Y_train)))\n",
    "print('Accuracy of GBDT classifier on test set: {:.2f}\\n'\n",
    "     .format(ada_SVCK.score(X_test_scaled, Y_test)))"
   ]
  },
  {
   "cell_type": "markdown",
   "metadata": {
    "collapsed": true
   },
   "source": [
    "### 4. Decision Tree"
   ]
  },
  {
   "cell_type": "code",
   "execution_count": 102,
   "metadata": {},
   "outputs": [
    {
     "name": "stdout",
     "output_type": "stream",
     "text": [
      "Accuracy of GBDT classifier on training set: 0.85\n",
      "Accuracy of GBDT classifier on test set: 0.63\n",
      "\n"
     ]
    }
   ],
   "source": [
    "ada_DTC = AdaBoostClassifier(DecisionTreeClassifier(max_depth=6),learning_rate= 0.001,n_estimators = 50,random_state = 10,algorithm='SAMME')\n",
    "ada_DTC.fit(X_train_scaled, Y_train)\n",
    "\n",
    "print('Accuracy of GBDT classifier on training set: {:.2f}'\n",
    "     .format(ada_DTC.score(X_train_scaled, Y_train)))\n",
    "print('Accuracy of GBDT classifier on test set: {:.2f}\\n'\n",
    "     .format(ada_DTC.score(X_test_scaled, Y_test)))"
   ]
  },
  {
   "cell_type": "markdown",
   "metadata": {
    "collapsed": true
   },
   "source": [
    "### 5. Random Forest"
   ]
  },
  {
   "cell_type": "code",
   "execution_count": 103,
   "metadata": {},
   "outputs": [
    {
     "name": "stdout",
     "output_type": "stream",
     "text": [
      "Accuracy of GBDT classifier on training set: 0.96\n",
      "Accuracy of GBDT classifier on test set: 0.69\n",
      "\n"
     ]
    }
   ],
   "source": [
    "ada_RFC = AdaBoostClassifier(RandomForestClassifier(max_depth=10,n_estimators=100),learning_rate= 0.001,n_estimators = 50,random_state = 10,algorithm='SAMME')\n",
    "ada_RFC.fit(X_train_scaled, Y_train)\n",
    "\n",
    "print('Accuracy of GBDT classifier on training set: {:.2f}'\n",
    "     .format(ada_RFC.score(X_train_scaled, Y_train)))\n",
    "print('Accuracy of GBDT classifier on test set: {:.2f}\\n'\n",
    "     .format(ada_RFC.score(X_test_scaled, Y_test)))"
   ]
  },
  {
   "cell_type": "markdown",
   "metadata": {
    "collapsed": true
   },
   "source": [
    "# Data Reduction using PCA"
   ]
  },
  {
   "cell_type": "code",
   "execution_count": 104,
   "metadata": {},
   "outputs": [
    {
     "name": "stdout",
     "output_type": "stream",
     "text": [
      "85\n"
     ]
    }
   ],
   "source": [
    "from sklearn.decomposition import PCA\n",
    "pca = PCA(n_components = 0.95)\n",
    "X_train_PCA = pca.fit_transform(X_train_scaled)\n",
    "X_test_PCA = pca.transform(X_test_scaled)\n",
    "print(pca.n_components_)\n"
   ]
  },
  {
   "cell_type": "markdown",
   "metadata": {
    "collapsed": true
   },
   "source": [
    "### 1. Logistic Regression"
   ]
  },
  {
   "cell_type": "code",
   "execution_count": 105,
   "metadata": {},
   "outputs": [
    {
     "name": "stdout",
     "output_type": "stream",
     "text": [
      "Best parameters{'C': 1}\n",
      "Best score 0.69\n"
     ]
    }
   ],
   "source": [
    "from sklearn.model_selection import GridSearchCV\n",
    "from sklearn.linear_model import LogisticRegression\n",
    "\n",
    "clf_PCA = LogisticRegression()\n",
    "param_grid = {'C':[0.001, 0.01, 0.1, 1, 10, 100, 1000]}\n",
    "\n",
    "grid_search = GridSearchCV(clf_PCA, param_grid, cv = 2, scoring='recall_weighted')\n",
    "grid_search.fit(X_train_PCA, Y_train)\n",
    "print('Best parameters{}'.format(grid_search.best_params_))\n",
    "print('Best score {:.2f}'.format(grid_search.best_score_))"
   ]
  },
  {
   "cell_type": "code",
   "execution_count": 106,
   "metadata": {},
   "outputs": [
    {
     "name": "stdout",
     "output_type": "stream",
     "text": [
      "Accuracy of Logistic Regression Classifier on training set: 0.81\n",
      "Accuracy of Logistic Regression Classifier on test set: 0.66\n"
     ]
    }
   ],
   "source": [
    "clf_PCA = LogisticRegression(C=1).fit(X_train_PCA,Y_train)\n",
    "print('Accuracy of Logistic Regression Classifier on training set: {:.2f}'.format(clf_PCA.score(X_train_PCA,Y_train)))\n",
    "print('Accuracy of Logistic Regression Classifier on test set: {:.2f}'.format(clf_PCA.score(X_test_PCA,Y_test)))"
   ]
  },
  {
   "cell_type": "markdown",
   "metadata": {
    "collapsed": true
   },
   "source": [
    "### 2. KNN"
   ]
  },
  {
   "cell_type": "code",
   "execution_count": 107,
   "metadata": {},
   "outputs": [
    {
     "name": "stdout",
     "output_type": "stream",
     "text": [
      "Best parameters{'n_neighbors': 5}\n",
      "Best score 0.58\n"
     ]
    }
   ],
   "source": [
    "from sklearn.neighbors import KNeighborsClassifier\n",
    "\n",
    "knn_PCA = KNeighborsClassifier()\n",
    "param_grid = {'n_neighbors':[1, 5, 10, 15, 20, 25, 30]}\n",
    "\n",
    "grid_search = GridSearchCV(knn_PCA, param_grid, cv = 2,scoring='recall_weighted')\n",
    "grid_search.fit(X_train_PCA, Y_train)\n",
    "print('Best parameters{}'.format(grid_search.best_params_))\n",
    "print('Best score {:.2f}'.format(grid_search.best_score_))"
   ]
  },
  {
   "cell_type": "code",
   "execution_count": 108,
   "metadata": {},
   "outputs": [
    {
     "name": "stdout",
     "output_type": "stream",
     "text": [
      "Accuracy of K-NN classifier on training set: 0.64\n",
      "Accuracy of K-NN classifier on test set: 0.60\n"
     ]
    }
   ],
   "source": [
    "knn_PCA = KNeighborsClassifier(n_neighbors = 5)\n",
    "knn_PCA.fit(X_train_PCA, Y_train)\n",
    "print('Accuracy of K-NN classifier on training set: {:.2f}'\n",
    "     .format(knn_PCA.score(X_train_PCA, Y_train)))\n",
    "print('Accuracy of K-NN classifier on test set: {:.2f}'\n",
    "     .format(knn_PCA.score(X_test_PCA, Y_test)))"
   ]
  },
  {
   "cell_type": "markdown",
   "metadata": {
    "collapsed": true
   },
   "source": [
    "### 3.SVC Linear"
   ]
  },
  {
   "cell_type": "code",
   "execution_count": 109,
   "metadata": {},
   "outputs": [
    {
     "name": "stdout",
     "output_type": "stream",
     "text": [
      "Best parameters{'C': 0.5, 'gamma': 0.001}\n",
      "Best score 0.69\n"
     ]
    }
   ],
   "source": [
    "from sklearn.svm import SVC\n",
    "svclinear_PCA = SVC(kernel = 'linear')\n",
    "param_grid = {'C':[0.001, 0.005, 0.01, 0.05, 0.1, 0.5, 1, 5, 10, 50, 100], \n",
    "              'gamma': [0.001, 0.005, 0.01, 0.05, 0.1, 0.5, 1, 5, 10, 50, 100]}\n",
    "\n",
    "grid_search = GridSearchCV(svclinear_PCA, param_grid, cv = 2,scoring='recall_weighted')\n",
    "grid_search.fit(X_train_PCA, Y_train)\n",
    "print('Best parameters{}'.format(grid_search.best_params_))\n",
    "print('Best score {:.2f}'.format(grid_search.best_score_))"
   ]
  },
  {
   "cell_type": "code",
   "execution_count": 110,
   "metadata": {},
   "outputs": [
    {
     "name": "stdout",
     "output_type": "stream",
     "text": [
      "0.8282548476454293\n",
      "0.7032967032967034\n"
     ]
    }
   ],
   "source": [
    "svclinear_PCA = SVC(kernel = 'linear',C=0.5,gamma=0.001)\n",
    "svclinear_PCA.fit(X_train_PCA, Y_train)\n",
    "\n",
    "print(svclinear_PCA.score(X_train_PCA, Y_train))\n",
    "print(svclinear_PCA.score(X_test_PCA, Y_test))"
   ]
  },
  {
   "cell_type": "markdown",
   "metadata": {
    "collapsed": true
   },
   "source": [
    "### 4. SVC Kernel"
   ]
  },
  {
   "cell_type": "code",
   "execution_count": 111,
   "metadata": {},
   "outputs": [
    {
     "name": "stdout",
     "output_type": "stream",
     "text": [
      "Best parameters{'C': 5, 'gamma': 0.05}\n",
      "Best score 0.70\n"
     ]
    }
   ],
   "source": [
    "from sklearn.svm import SVC\n",
    "svckernal_PCA = SVC(kernel = 'rbf')\n",
    "param_grid = {'C':[0.001, 0.005, 0.01, 0.05, 0.1, 0.5, 1, 5, 10, 50, 100], \n",
    "              'gamma': [0.001, 0.005, 0.01, 0.05, 0.1, 0.5, 1, 5, 10, 50, 100]}\n",
    "\n",
    "grid_search = GridSearchCV(svckernal_PCA, param_grid, cv = 2,scoring='recall_weighted')\n",
    "grid_search.fit(X_train_PCA, Y_train)\n",
    "print('Best parameters{}'.format(grid_search.best_params_))\n",
    "print('Best score {:.2f}'.format(grid_search.best_score_))"
   ]
  },
  {
   "cell_type": "code",
   "execution_count": 112,
   "metadata": {},
   "outputs": [
    {
     "name": "stdout",
     "output_type": "stream",
     "text": [
      "0.8421052631578947\n",
      "0.7032967032967034\n"
     ]
    }
   ],
   "source": [
    "svckernal_PCA = SVC(kernel = 'rbf',C=5,gamma=0.05)\n",
    "svckernal_PCA.fit(X_train_PCA, Y_train)\n",
    "\n",
    "print(svckernal_PCA.score(X_train_PCA, Y_train))\n",
    "print(svckernal_PCA.score(X_test_PCA, Y_test))"
   ]
  },
  {
   "cell_type": "markdown",
   "metadata": {
    "collapsed": true
   },
   "source": [
    "### 5. Decision Tree"
   ]
  },
  {
   "cell_type": "code",
   "execution_count": 113,
   "metadata": {},
   "outputs": [
    {
     "name": "stdout",
     "output_type": "stream",
     "text": [
      "Best parameters{'max_depth': 2}\n",
      "Best score 0.52\n"
     ]
    }
   ],
   "source": [
    "from sklearn.tree import DecisionTreeClassifier\n",
    "from sklearn.model_selection import GridSearchCV\n",
    "\n",
    "DTC_PCA = DecisionTreeClassifier()\n",
    "\n",
    "param_grid = {'max_depth': range(1,11)}\n",
    "\n",
    "grid_search = GridSearchCV(DTC_PCA, param_grid, cv = 2,scoring='recall_weighted')\n",
    "grid_search.fit(X_train_PCA, Y_train)\n",
    "print('Best parameters{}'.format(grid_search.best_params_))\n",
    "print('Best score {:.2f}'.format(grid_search.best_score_))"
   ]
  },
  {
   "cell_type": "code",
   "execution_count": 114,
   "metadata": {},
   "outputs": [
    {
     "name": "stdout",
     "output_type": "stream",
     "text": [
      "0.6011080332409973\n",
      "0.5604395604395604\n"
     ]
    }
   ],
   "source": [
    "DTC_PCA = DecisionTreeClassifier(max_depth=2)\n",
    "DTC_PCA.fit(X_train_PCA,Y_train)\n",
    "\n",
    "print(DTC_PCA.score(X_train_PCA, Y_train))\n",
    "print(DTC_PCA.score(X_test_PCA, Y_test))"
   ]
  },
  {
   "cell_type": "markdown",
   "metadata": {
    "collapsed": true
   },
   "source": [
    "### 6. Random Forest"
   ]
  },
  {
   "cell_type": "code",
   "execution_count": 115,
   "metadata": {},
   "outputs": [
    {
     "name": "stdout",
     "output_type": "stream",
     "text": [
      "Best parameters{'max_depth': 10, 'n_estimators': 50}\n",
      "Best score 0.58\n"
     ]
    }
   ],
   "source": [
    "from sklearn.ensemble import RandomForestClassifier\n",
    "from sklearn.model_selection import GridSearchCV\n",
    "\n",
    "RFC_PCA= RandomForestClassifier()\n",
    "\n",
    "param_grid = {'max_depth': range(1,11),'n_estimators' : [10,50,100,150,200]}\n",
    "\n",
    "grid_search = GridSearchCV(RFC_PCA, param_grid, cv = 2,scoring='recall_weighted')\n",
    "grid_search.fit(X_train_PCA, Y_train) \n",
    "print('Best parameters{}'.format(grid_search.best_params_))\n",
    "print('Best score {:.2f}'.format(grid_search.best_score_))"
   ]
  },
  {
   "cell_type": "code",
   "execution_count": 116,
   "metadata": {},
   "outputs": [
    {
     "name": "stdout",
     "output_type": "stream",
     "text": [
      "0.961218836565097\n",
      "0.5934065934065934\n"
     ]
    }
   ],
   "source": [
    "RFC_PCA = RandomForestClassifier(max_depth=10,n_estimators= 50)\n",
    "RFC.fit(X_train_PCA,Y_train)\n",
    "\n",
    "print(RFC.score(X_train_PCA, Y_train))\n",
    "print(RFC.score(X_test_PCA, Y_test))"
   ]
  },
  {
   "attachments": {
    "image.png": {
     "image/png": "[encoded data removed]"
    }
   },
   "cell_type": "markdown",
   "metadata": {},
   "source": [
    "# Conclusion:\n",
    "\n",
    "On bagging and boosting, there was a slight improvement in scores of some of the models which were overfitted.Therefore, bagging and boosting did not improve the accuracy of this dataset. The number of features was significantly large compared to the number of rows in the dataset.\n",
    "On using PCA, reduced the dimension of the dataset to 85. Feature reduction did not lead to any dramatic changes in the result. KNN Classifier and SVC-kernel have been consistent with close training and testing scores as displayed in the image below:\n",
    "\n",
    "![image.png](attachment:image.png)"
   ]
  }
 ],
 "metadata": {
  "kernelspec": {
   "display_name": "Python 3",
   "language": "python",
   "name": "python3"
  },
  "language_info": {
   "codemirror_mode": {
    "name": "ipython",
    "version": 3
   },
   "file_extension": ".py",
   "mimetype": "text/x-python",
   "name": "python",
   "nbconvert_exporter": "python",
   "pygments_lexer": "ipython3",
   "version": "3.6.1"
  }
 },
 "nbformat": 4,
 "nbformat_minor": 2
}
